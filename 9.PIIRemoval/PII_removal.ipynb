{
  "cells": [
    {
      "cell_type": "markdown",
      "source": [
        "# Removing PII as part of Unstructured Data ETL\n",
        "\n",
        "When building a RAG application, removing Personally Identifiable Information (PII) during data preprocessing can be crucial for privacy, compliance, and security reasons. In this notebook, we will walk through data preprocessing steps that process unstructured documents, chunk them, remove PII, generate embeddings and upload the results.\n",
        "\n",
        "We'll use Unstructured's Serverless API via `unstructured-ingest` library to handle document ingestion and partitioning, and GLiNER model for identifying and redacting PII entities. Finally, we'll embed the cleaned chunks and prepare them for downstream RAG applications.\n",
        "\n",
        "Unstructured doesn't specialize in PII removal, but focuses on ETL, but we can still incorporate this step as a part of data preprocessing.\n"
      ],
      "metadata": {
        "id": "TW_nHN9d-vDY"
      }
    },
    {
      "cell_type": "markdown",
      "metadata": {
        "id": "sCD6whdjRIdw"
      },
      "source": [
        "## Step 1: Install required libraries\n",
        "\n",
        "- [unstructured-ingest](https://github.com/urchade/GLiNER): Python package for data processing using Unstructured\n",
        "- [gliner](https://github.com/urchade/GLiNER): for running zero-shot NER inference with GLiNER model.\n",
        "\n",
        "[GLiNER](https://huggingface.co/urchade/gliner_large-v2.1) is a Named Entity Recognition (NER) model capable of identifying any entity type using a bidirectional transformer encoder (BERT-like). It provides a practical alternative to traditional NER models, which are limited to predefined entities, and Large Language Models (LLMs) that, despite their flexibility, are costly and large for resource-constrained scenarios.\n",
        "GLiNER is shared with an Apache 2.0 license on the Hugging Face Hub."
      ]
    },
    {
      "cell_type": "code",
      "execution_count": null,
      "metadata": {
        "id": "MjRkV7PX9Uik",
        "collapsed": true
      },
      "outputs": [],
      "source": [
        "!pip install -qU \"unstructured-ingest[pdf, embed-huggingface]\" gliner"
      ]
    },
    {
      "cell_type": "markdown",
      "metadata": {
        "id": "yh1ZHga1HM8p"
      },
      "source": [
        "## Step 2: Setup prerequisites\n",
        "\n",
        "- **Set the Unstructured API key and URL**: Steps to obtain the API key and URL are [here](https://unstructured.io/api-key-hosted)\n",
        "\n",
        "If you'd like, feel free to use a different embedding model, this will not change the preprocessing steps that we want to illustrate here.\n",
        "\n"
      ]
    },
    {
      "cell_type": "code",
      "execution_count": null,
      "metadata": {
        "ExecuteTime": {
          "end_time": "2024-08-22T20:25:13.754843Z",
          "start_time": "2024-08-22T20:25:13.752362Z"
        },
        "id": "XgVmhd7188oC"
      },
      "outputs": [],
      "source": [
        "# Your Unstructured API key and URL\n",
        "import os\n",
        "\n",
        "os.environ[\"UNSTRUCTURED_API_KEY\"] = \"\"\n",
        "os.environ[\"UNSTRUCTURED_URL\"] = \"\"\n",
        "os.environ[\"EMBEDDING_MODEL_NAME\"] = \"BAAI/bge-base-en-v1.5\"\n"
      ]
    },
    {
      "cell_type": "code",
      "execution_count": null,
      "metadata": {
        "id": "gn5FHZI7ZJ7A"
      },
      "outputs": [],
      "source": [
        "from unstructured_ingest.v2.pipeline.pipeline import Pipeline\n",
        "from unstructured_ingest.v2.interfaces import ProcessorConfig\n",
        "from unstructured_ingest.v2.processes.partitioner import PartitionerConfig\n",
        "from unstructured_ingest.v2.processes.chunker import ChunkerConfig\n",
        "from unstructured_ingest.v2.processes.embedder import EmbedderConfig\n",
        "\n",
        "from unstructured_ingest.v2.processes.connectors.local import (\n",
        "    LocalIndexerConfig,\n",
        "    LocalDownloaderConfig,\n",
        "    LocalConnectionConfig,\n",
        ")\n",
        "\n",
        "from unstructured_ingest.v2.processes.connectors.local import LocalUploaderConfig"
      ]
    },
    {
      "cell_type": "markdown",
      "source": [
        "## Step 3: Locate some data with PII\n",
        "\n",
        "For illustration purposes, we used an LLM to generate a few documents with fake personal information, you can find them here:\n",
        "\n",
        "* [Fake CV](https://docs.google.com/document/d/1NrbiXLpsqTxmNX8ZTmFA6jHRPahq2sV5AeS6Yn19s5Y/edit?usp=drive_link)\n",
        "* [Fake hotel reservation confirmation](https://docs.google.com/document/d/1YQQXRrdBFXJ0c7q-qqA5ti5ajtlVL3vJfvBYQxpccoo/edit?usp=drive_link)\n",
        "* [Fake mortgage agrement](https://docs.google.com/document/d/1vUAQ74wCbZfwgrg0uMVraBlj2-yE_QpiAdobtfmHa_0/edit?usp=drive_link)\n",
        "\n",
        "\n",
        "If you'd like to run the example with the exact same documents, download them, and place into the \"/content/data\" folder. Otherwise, feel free to use any other documents from the file types that Unstructured supports: `.eml`, `.html`, `.md`, `.msg`, `.rst`, `.rtf`, `.txt`, `.xml`, `.png`, `.jpg`, `.jpeg`, `.tiff`, `.bmp`, `.heic`, `.csv`, `.doc`, `.docx`, `.epub`, `.odt`, `.pdf`, `.ppt`, `.pptx`, `.tsv`, `.xlsx`.\n",
        "\n",
        "Set the `WORK_DIR` - this is where Unstructured ingest library will cache the results of each preprocessing step."
      ],
      "metadata": {
        "id": "k_BkmJn2DNaW"
      }
    },
    {
      "cell_type": "code",
      "execution_count": null,
      "metadata": {
        "ExecuteTime": {
          "end_time": "2024-08-22T20:25:18.555381Z",
          "start_time": "2024-08-22T20:25:18.553677Z"
        },
        "id": "Z5v_JWSBwbr2"
      },
      "outputs": [],
      "source": [
        "DOCUMENTS = \"/content/data\"\n",
        "WORK_DIR = \"/content/temp\"\n",
        "interm_results = \"/content/intermediate_results\""
      ]
    },
    {
      "cell_type": "markdown",
      "source": [
        "## Step 4: Run initial data preprocessing\n",
        "\n",
        "First, let's convert unstructured documents (`*.docx` in this case) into structured JSON.\n",
        "\n",
        "We'll define the pipeline to partition and chunk the documents. Here, we're using a `fast` partitioning strategy which is best suited for non-image documents that can be parsed with rule-based parsers.\n",
        "\n",
        "**Note**: For the chunking step, in addition to the standard considerations of the embedding model context size and retrieval precision, you want to take into account that GLiNER's input is limited to 384 tokens, so if you want to have larger chunks, you may need to do additional splitting for GLiNER and merging back. In this example, the chunks are small enough to fit GLiNER's input restrictions, and to fit the embedding model limits."
      ],
      "metadata": {
        "id": "BHK3YS-XiB_1"
      }
    },
    {
      "cell_type": "code",
      "execution_count": null,
      "metadata": {
        "ExecuteTime": {
          "end_time": "2024-08-22T21:36:12.887187Z",
          "start_time": "2024-08-22T21:22:53.915454Z"
        },
        "id": "0h020TAN9nMB",
        "colab": {
          "base_uri": "https://localhost:8080/"
        },
        "outputId": "ef886732-60e8-4b41-9600-7068039c1179",
        "collapsed": true
      },
      "outputs": [
        {
          "output_type": "stream",
          "name": "stderr",
          "text": [
            "2024-09-24 18:20:12,821 MainProcess INFO     created index with configs: {\"input_path\": \"/content/data\", \"recursive\": false}, connection configs: {\"access_config\": \"**********\"}\n",
            "2024-09-24 18:20:12,831 MainProcess INFO     Created download with configs: {\"download_dir\": null}, connection configs: {\"access_config\": \"**********\"}\n",
            "2024-09-24 18:20:12,840 MainProcess INFO     created partition with configs: {\"strategy\": \"fast\", \"ocr_languages\": null, \"encoding\": null, \"additional_partition_args\": null, \"skip_infer_table_types\": null, \"fields_include\": [\"element_id\", \"text\", \"type\", \"metadata\", \"embeddings\"], \"flatten_metadata\": false, \"metadata_exclude\": [], \"metadata_include\": [], \"partition_endpoint\": \"https://api.unstructuredapp.io/general/v0/general\", \"partition_by_api\": true, \"api_key\": \"*******\", \"hi_res_model_name\": null}\n",
            "2024-09-24 18:20:12,847 MainProcess INFO     created chunk with configs: {\"chunking_strategy\": \"by_title\", \"chunking_endpoint\": \"https://api.unstructured.io/general/v0/general\", \"chunk_by_api\": false, \"chunk_api_key\": null, \"chunk_combine_text_under_n_chars\": null, \"chunk_include_orig_elements\": null, \"chunk_max_characters\": 1000, \"chunk_multipage_sections\": true, \"chunk_new_after_n_chars\": null, \"chunk_overlap\": 150, \"chunk_overlap_all\": null}\n",
            "2024-09-24 18:20:12,856 MainProcess INFO     Created upload with configs: {\"output_dir\": \"/content/intermediate_results\"}, connection configs: {\"access_config\": \"**********\"}\n",
            "2024-09-24 18:20:12,859 MainProcess INFO     running local pipeline: index (LocalIndexer) -> download (LocalDownloader) -> partition (fast) -> chunk (by_title) -> upload (LocalUploader) with configs: {\"reprocess\": false, \"verbose\": true, \"tqdm\": true, \"work_dir\": \"/content/temp\", \"num_processes\": 5, \"max_connections\": null, \"raise_on_error\": false, \"disable_parallelism\": false, \"preserve_downloads\": false, \"download_only\": false, \"re_download\": false, \"uncompress\": false, \"iter_delete\": false, \"delete_cache\": false, \"otel_endpoint\": null, \"status\": {}}\n",
            "2024-09-24 18:20:13,279 MainProcess INFO     index finished in 0.00020948s\n",
            "2024-09-24 18:20:13,291 MainProcess WARNING  Couldn't detect date created: 'os.stat_result' object has no attribute 'st_birthtime'\n",
            "2024-09-24 18:20:13,303 MainProcess DEBUG    generated file data: {\"identifier\": \"/content/data/Fake_Mortgage Agreement.docx\", \"connector_type\": \"local\", \"source_identifiers\": {\"filename\": \"Fake_Mortgage Agreement.docx\", \"fullpath\": \"/content/data/Fake_Mortgage Agreement.docx\", \"rel_path\": \"Fake_Mortgage Agreement.docx\"}, \"doc_type\": \"file\", \"metadata\": {\"url\": null, \"version\": null, \"record_locator\": {\"path\": \"/content/data/Fake_Mortgage Agreement.docx\"}, \"date_created\": null, \"date_modified\": \"1727191587.7643929\", \"date_processed\": \"1727202013.2985857\", \"permissions_data\": [{\"mode\": 33188}], \"filesize_bytes\": 9075}, \"additional_metadata\": {}, \"reprocess\": false, \"local_download_path\": null}\n",
            "2024-09-24 18:20:13,325 MainProcess WARNING  Couldn't detect date created: 'os.stat_result' object has no attribute 'st_birthtime'\n",
            "2024-09-24 18:20:13,329 MainProcess DEBUG    generated file data: {\"identifier\": \"/content/data/Fake_CV.docx\", \"connector_type\": \"local\", \"source_identifiers\": {\"filename\": \"Fake_CV.docx\", \"fullpath\": \"/content/data/Fake_CV.docx\", \"rel_path\": \"Fake_CV.docx\"}, \"doc_type\": \"file\", \"metadata\": {\"url\": null, \"version\": null, \"record_locator\": {\"path\": \"/content/data/Fake_CV.docx\"}, \"date_created\": null, \"date_modified\": \"1727191587.7273893\", \"date_processed\": \"1727202013.3288934\", \"permissions_data\": [{\"mode\": 33188}], \"filesize_bytes\": 10779}, \"additional_metadata\": {}, \"reprocess\": false, \"local_download_path\": null}\n",
            "2024-09-24 18:20:13,362 MainProcess WARNING  Couldn't detect date created: 'os.stat_result' object has no attribute 'st_birthtime'\n",
            "2024-09-24 18:20:13,365 MainProcess DEBUG    generated file data: {\"identifier\": \"/content/data/Fake_Hotel_Reservation.docx\", \"connector_type\": \"local\", \"source_identifiers\": {\"filename\": \"Fake_Hotel_Reservation.docx\", \"fullpath\": \"/content/data/Fake_Hotel_Reservation.docx\", \"rel_path\": \"Fake_Hotel_Reservation.docx\"}, \"doc_type\": \"file\", \"metadata\": {\"url\": null, \"version\": null, \"record_locator\": {\"path\": \"/content/data/Fake_Hotel_Reservation.docx\"}, \"date_created\": null, \"date_modified\": \"1727191587.7723935\", \"date_processed\": \"1727202013.3640954\", \"permissions_data\": [{\"mode\": 33188}], \"filesize_bytes\": 8827}, \"additional_metadata\": {}, \"reprocess\": false, \"local_download_path\": null}\n",
            "2024-09-24 18:20:13,382 MainProcess INFO     calling DownloadStep with 3 docs\n",
            "2024-09-24 18:20:13,388 MainProcess INFO     processing content async\n",
            "2024-09-24 18:20:13,392 MainProcess WARNING  async code being run in dedicated thread pool to not conflict with existing event loop: <_UnixSelectorEventLoop running=True closed=False debug=False>\n",
            "download:   0%|          | 0/3 [00:00<?, ?it/s]2024-09-24 18:20:13,426 MainProcess DEBUG    skipping download, file already exists locally: /content/data/Fake_Mortgage Agreement.docx\n",
            "2024-09-24 18:20:13,433 MainProcess DEBUG    updating file data with new content: {\"identifier\": \"/content/data/Fake_Mortgage Agreement.docx\", \"connector_type\": \"local\", \"source_identifiers\": {\"filename\": \"Fake_Mortgage Agreement.docx\", \"fullpath\": \"/content/data/Fake_Mortgage Agreement.docx\", \"rel_path\": \"Fake_Mortgage Agreement.docx\"}, \"doc_type\": \"file\", \"metadata\": {\"url\": null, \"version\": null, \"record_locator\": {\"path\": \"/content/data/Fake_Mortgage Agreement.docx\"}, \"date_created\": null, \"date_modified\": \"1727191587.7643929\", \"date_processed\": \"1727202013.2985857\", \"permissions_data\": [{\"mode\": 33188}], \"filesize_bytes\": 9075}, \"additional_metadata\": {}, \"reprocess\": false, \"local_download_path\": \"/content/data/Fake_Mortgage Agreement.docx\"}\n",
            "2024-09-24 18:20:13,452 MainProcess INFO     download finished in 0.033812946s, attributes: file_id=1643237ed44f\n",
            "2024-09-24 18:20:13,461 MainProcess DEBUG    skipping download, file already exists locally: /content/data/Fake_Hotel_Reservation.docx\n",
            "2024-09-24 18:20:13,464 MainProcess DEBUG    updating file data with new content: {\"identifier\": \"/content/data/Fake_Hotel_Reservation.docx\", \"connector_type\": \"local\", \"source_identifiers\": {\"filename\": \"Fake_Hotel_Reservation.docx\", \"fullpath\": \"/content/data/Fake_Hotel_Reservation.docx\", \"rel_path\": \"Fake_Hotel_Reservation.docx\"}, \"doc_type\": \"file\", \"metadata\": {\"url\": null, \"version\": null, \"record_locator\": {\"path\": \"/content/data/Fake_Hotel_Reservation.docx\"}, \"date_created\": null, \"date_modified\": \"1727191587.7723935\", \"date_processed\": \"1727202013.3640954\", \"permissions_data\": [{\"mode\": 33188}], \"filesize_bytes\": 8827}, \"additional_metadata\": {}, \"reprocess\": false, \"local_download_path\": \"/content/data/Fake_Hotel_Reservation.docx\"}\n",
            "2024-09-24 18:20:13,468 MainProcess INFO     download finished in 0.011645521s, attributes: file_id=f9777ce459b9\n",
            "2024-09-24 18:20:13,484 MainProcess DEBUG    skipping download, file already exists locally: /content/data/Fake_CV.docx\n",
            "2024-09-24 18:20:13,487 MainProcess DEBUG    updating file data with new content: {\"identifier\": \"/content/data/Fake_CV.docx\", \"connector_type\": \"local\", \"source_identifiers\": {\"filename\": \"Fake_CV.docx\", \"fullpath\": \"/content/data/Fake_CV.docx\", \"rel_path\": \"Fake_CV.docx\"}, \"doc_type\": \"file\", \"metadata\": {\"url\": null, \"version\": null, \"record_locator\": {\"path\": \"/content/data/Fake_CV.docx\"}, \"date_created\": null, \"date_modified\": \"1727191587.7273893\", \"date_processed\": \"1727202013.3288934\", \"permissions_data\": [{\"mode\": 33188}], \"filesize_bytes\": 10779}, \"additional_metadata\": {}, \"reprocess\": false, \"local_download_path\": \"/content/data/Fake_CV.docx\"}\n",
            "2024-09-24 18:20:13,493 MainProcess INFO     download finished in 0.011632204s, attributes: file_id=b359834e8dc3\n",
            "download: 100%|██████████| 3/3 [00:00<00:00, 37.75it/s]\n",
            "2024-09-24 18:20:13,504 MainProcess INFO     download step finished in 0.122381143s\n",
            "2024-09-24 18:20:13,514 MainProcess INFO     calling PartitionStep with 3 docs\n",
            "2024-09-24 18:20:13,515 MainProcess INFO     processing content async\n",
            "2024-09-24 18:20:13,520 MainProcess WARNING  async code being run in dedicated thread pool to not conflict with existing event loop: <_UnixSelectorEventLoop running=True closed=False debug=False>\n",
            "partition:   0%|          | 0/3 [00:00<?, ?it/s]2024-09-24 18:20:13,572 MainProcess DEBUG    skipping partitioning, output already exists: /content/temp/partition/e9954ff04769.json\n",
            "2024-09-24 18:20:13,575 MainProcess INFO     partition finished in 0.00588788s, attributes: file_id=f9777ce459b9\n",
            "2024-09-24 18:20:13,582 MainProcess DEBUG    skipping partitioning, output already exists: /content/temp/partition/14d37523db3b.json\n",
            "2024-09-24 18:20:13,591 MainProcess INFO     partition finished in 0.011276942s, attributes: file_id=b359834e8dc3\n",
            "2024-09-24 18:20:13,608 MainProcess DEBUG    skipping partitioning, output already exists: /content/temp/partition/b6add7032ecd.json\n",
            "2024-09-24 18:20:13,612 MainProcess INFO     partition finished in 0.00861759s, attributes: file_id=1643237ed44f\n",
            "partition: 100%|██████████| 3/3 [00:00<00:00, 62.29it/s]\n",
            "2024-09-24 18:20:13,636 MainProcess INFO     partition step finished in 0.122172089s\n",
            "2024-09-24 18:20:13,639 MainProcess INFO     calling ChunkStep with 3 docs\n",
            "2024-09-24 18:20:13,656 MainProcess INFO     processing content across processes\n",
            "Overriding of current TracerProvider is not allowed\n",
            "Overriding of current TracerProvider is not allowed\n",
            "Overriding of current TracerProvider is not allowed\n",
            "Overriding of current TracerProvider is not allowed\n",
            "chunk:   0%|          | 0/3 [00:00<?, ?it/s]Overriding of current TracerProvider is not allowed\n",
            "2024-09-24 18:20:13,947 ForkPoolWorker-2 DEBUG    skipping chunking, output already exists: /content/temp/chunk/87d9bba0d931.json\n",
            "2024-09-24 18:20:13,959 ForkPoolWorker-3 DEBUG    skipping chunking, output already exists: /content/temp/chunk/6ab673436d44.json\n",
            "2024-09-24 18:20:13,972 ForkPoolWorker-2 INFO     chunk finished in 0.042675219s, attributes: file_id=1643237ed44f\n",
            "2024-09-24 18:20:13,990 ForkPoolWorker-2 INFO     chunk finished in 0.062863502s, attributes: file_id=1643237ed44f\n",
            "2024-09-24 18:20:13,990 ForkPoolWorker-3 INFO     chunk finished in 0.048736143s, attributes: file_id=b359834e8dc3\n",
            "2024-09-24 18:20:13,982 ForkPoolWorker-4 DEBUG    skipping chunking, output already exists: /content/temp/chunk/fe83d53f4446.json\n",
            "2024-09-24 18:20:14,016 ForkPoolWorker-3 INFO     chunk finished in 0.076934208s, attributes: file_id=b359834e8dc3\n",
            "chunk:  67%|██████▋   | 2/3 [00:00<00:00, 16.98it/s]2024-09-24 18:20:14,023 ForkPoolWorker-4 INFO     chunk finished in 0.056024918s, attributes: file_id=f9777ce459b9\n",
            "2024-09-24 18:20:14,049 ForkPoolWorker-4 INFO     chunk finished in 0.083455455s, attributes: file_id=f9777ce459b9\n",
            "chunk: 100%|██████████| 3/3 [00:00<00:00, 21.26it/s]\n",
            "2024-09-24 18:20:14,153 MainProcess INFO     chunk step finished in 0.512464563s\n",
            "2024-09-24 18:20:14,161 MainProcess INFO     calling UploadStep with 3 docs\n",
            "2024-09-24 18:20:14,164 MainProcess INFO     processing content across processes\n",
            "Overriding of current TracerProvider is not allowed\n",
            "Overriding of current TracerProvider is not allowed\n",
            "Overriding of current TracerProvider is not allowed\n",
            "upload:   0%|          | 0/3 [00:00<?, ?it/s]Overriding of current TracerProvider is not allowed\n",
            "Overriding of current TracerProvider is not allowed\n",
            "2024-09-24 18:20:14,392 ForkPoolWorker-8 DEBUG    copying file from /content/temp/chunk/87d9bba0d931.json to /content/intermediate_results/Fake_Mortgage Agreement.docx.json\n",
            "2024-09-24 18:20:14,407 ForkPoolWorker-11 DEBUG    copying file from /content/temp/chunk/fe83d53f4446.json to /content/intermediate_results/Fake_Hotel_Reservation.docx.json\n",
            "2024-09-24 18:20:14,415 ForkPoolWorker-7 DEBUG    copying file from /content/temp/chunk/6ab673436d44.json to /content/intermediate_results/Fake_CV.docx.json\n",
            "2024-09-24 18:20:14,422 ForkPoolWorker-8 INFO     upload finished in 0.034790654s, attributes: file_id=1643237ed44f\n",
            "2024-09-24 18:20:14,426 ForkPoolWorker-11 INFO     upload finished in 0.025039587s, attributes: file_id=f9777ce459b9\n",
            "2024-09-24 18:20:14,430 ForkPoolWorker-7 INFO     upload finished in 0.032041644s, attributes: file_id=b359834e8dc3\n",
            "2024-09-24 18:20:14,434 ForkPoolWorker-11 INFO     upload finished in 0.035595906s, attributes: file_id=f9777ce459b9\n",
            "2024-09-24 18:20:14,438 ForkPoolWorker-7 INFO     upload finished in 0.05153515s, attributes: file_id=b359834e8dc3\n",
            "2024-09-24 18:20:14,446 ForkPoolWorker-8 INFO     upload finished in 0.061037272s, attributes: file_id=1643237ed44f\n",
            "upload: 100%|██████████| 3/3 [00:00<00:00, 36.59it/s]\n",
            "2024-09-24 18:20:14,504 MainProcess INFO     upload step finished in 0.343630501s\n",
            "2024-09-24 18:20:14,511 MainProcess INFO     ingest process finished in 1.652452764s\n"
          ]
        }
      ],
      "source": [
        "Pipeline.from_configs(\n",
        "    context=ProcessorConfig(\n",
        "        verbose=True, tqdm=True, num_processes=5, work_dir=WORK_DIR\n",
        "    ),\n",
        "    indexer_config=LocalIndexerConfig(input_path=DOCUMENTS),\n",
        "    downloader_config=LocalDownloaderConfig(),\n",
        "    source_connection_config=LocalConnectionConfig(),\n",
        "    partitioner_config=PartitionerConfig(\n",
        "        partition_by_api=True,\n",
        "        api_key=os.getenv(\"UNSTRUCTURED_API_KEY\"),\n",
        "        partition_endpoint=os.getenv(\"UNSTRUCTURED_URL\"),\n",
        "        strategy=\"fast\",\n",
        "    ),\n",
        "    chunker_config=ChunkerConfig(\n",
        "        chunking_strategy=\"by_title\",\n",
        "        chunk_max_characters=1000,\n",
        "        chunk_overlap=150,\n",
        "    ),\n",
        "    uploader_config=LocalUploaderConfig(output_dir=interm_results),\n",
        ").run()"
      ]
    },
    {
      "cell_type": "markdown",
      "metadata": {
        "id": "ZAFAUsSB-_6p"
      },
      "source": [
        "Let's take a look at a single document chunk after partitioning and chunking:"
      ]
    },
    {
      "cell_type": "code",
      "source": [
        "import json\n",
        "\n",
        "fake_mortgage_path = \"/content/intermediate_results/Fake_Mortgage Agreement.docx.json\"\n",
        "with open(fake_mortgage_path, 'r') as file:\n",
        "    fake_mortgage_elements = json.load(file)"
      ],
      "metadata": {
        "id": "gT_9-IFUY31C"
      },
      "execution_count": null,
      "outputs": []
    },
    {
      "cell_type": "code",
      "source": [
        "print(fake_mortgage_elements[0]['text'])"
      ],
      "metadata": {
        "colab": {
          "base_uri": "https://localhost:8080/"
        },
        "id": "12Ij23RUb_zM",
        "outputId": "ffc98907-cb03-4360-eae9-9a042db78c8d"
      },
      "execution_count": null,
      "outputs": [
        {
          "output_type": "stream",
          "name": "stdout",
          "text": [
            "Mortgage Agreement\n",
            "\n",
            "This Mortgage Agreement (\"Agreement\") is entered into on this 24th day of September, 2024, by and between:\n",
            "\n",
            "Borrower: Jane Doe\n",
            "Address: 123 Elm Street, Springfield, IL 62704\n",
            "SSN: 123-45-6789\n",
            "\n",
            "Lender: First National Bank\n",
            "Address: 456 Main Street, Springfield, IL 62701\n",
            "\n",
            "Property: 123 Elm Street, Springfield, IL 62704\n",
            "\n",
            "WHEREAS, Borrower has applied for a loan from Lender, and Lender has agreed to make a loan to Borrower upon the terms and conditions set forth in this Agreement;\n",
            "\n",
            "NOW, THEREFORE, in consideration of the mutual covenants herein, the parties agree as follows:\n"
          ]
        }
      ]
    },
    {
      "cell_type": "markdown",
      "source": [
        "As you can see, it contains a lot of PII - a person's name, social security number, address. Let's see how we can identify and redact this information with GLiNER."
      ],
      "metadata": {
        "id": "hvrt28x6Gnri"
      }
    },
    {
      "cell_type": "markdown",
      "source": [
        "## About GLiNER"
      ],
      "metadata": {
        "id": "tlV03B4Zii7Q"
      }
    },
    {
      "cell_type": "markdown",
      "source": [
        "Named Entity Recognition(NER) is an method used to locate and classify named entities mentioned in text into predefined categories (person names, organization, locations, time expression, monetary values, etc).\n",
        "Traditional NER models are limited to a trained on a predefined set of entity types, this means that if you wanted to extend the list of categories that you would like to identify, you would have to retrain of fine-tune a model yourself on your own labeled data. For example, a traditional NER model trained to identify people, locations, and organizations wouldn't be able to identify product names or dates.\n",
        "\n",
        "\n",
        "[GLiNER](https://arxiv.org/abs/2311.08526), on the other hand, is designed to identify any type of entity, regardless of whether it was explicitly included in the training data. This \"open-type\" capability stems from its use of natural language instructions and its ability to match entity type embeddings to text spans in a latent space.\n",
        "\n",
        "This means that you have to define your own PII categories that you want the model to identify in your text. Let's load the model and define some categories.\n"
      ],
      "metadata": {
        "id": "iX2EyxE1HSIk"
      }
    },
    {
      "cell_type": "code",
      "source": [
        "from huggingface_hub import notebook_login\n",
        "\n",
        "notebook_login()"
      ],
      "metadata": {
        "id": "yhUFs7tMNwaF"
      },
      "execution_count": null,
      "outputs": []
    },
    {
      "cell_type": "code",
      "source": [
        "from gliner import GLiNER\n",
        "\n",
        "model = GLiNER.from_pretrained(\"urchade/gliner_large-v2.1\")\n",
        "\n",
        "pii_categories = [\"account number\", \"address\", \"city\", \"credit card number\", \"date of birth\", \"corporate email\", \"price\",\n",
        "                  \"driver license number\", \"email\", \"person's name\", \"id card number\", \"password\", \"social security number\",\n",
        "                  \"street\", \"telephone number\", \"username\", \"zipcode\", \"reference number\", \"booking number\"]"
      ],
      "metadata": {
        "colab": {
          "base_uri": "https://localhost:8080/",
          "height": 248,
          "referenced_widgets": [
            "f2d863ad0c9d46bc9aa80f6b50e9a3b2",
            "ddc3431f0a7540f88e0cb70596ce4fcb",
            "b3d8157918d04b96acb93627bb4cb767",
            "1e7b8ffa3cdb4c24b4cca073f2657ca3",
            "5b5a176039584a649261ed7e21b3bb95",
            "4e09b26ad95b487ab4dc16982fdfd1e8",
            "e60f2bf4b3db4e9281b40f711be6cfbd",
            "bc290bc03bf04c7cb74d4e117bae1662",
            "3a0e3f0348c44ae89b18f58dcb55c795",
            "e313ac707b19414685f8b2e8b84ebc9a",
            "872754986d5f4099a0d6a26f541966a7"
          ]
        },
        "id": "zWS1dc95HoAP",
        "outputId": "7e780e22-8e33-4b8e-f894-594c4c9d2f6e",
        "collapsed": true
      },
      "execution_count": null,
      "outputs": [
        {
          "output_type": "stream",
          "name": "stderr",
          "text": [
            "/usr/local/lib/python3.10/dist-packages/huggingface_hub/utils/_token.py:89: UserWarning: \n",
            "The secret `HF_TOKEN` does not exist in your Colab secrets.\n",
            "To authenticate with the Hugging Face Hub, create a token in your settings tab (https://huggingface.co/settings/tokens), set it as secret in your Google Colab and restart your session.\n",
            "You will be able to reuse this secret in all of your notebooks.\n",
            "Please note that authentication is recommended but still optional to access public models or datasets.\n",
            "  warnings.warn(\n"
          ]
        },
        {
          "output_type": "display_data",
          "data": {
            "text/plain": [
              "Fetching 4 files:   0%|          | 0/4 [00:00<?, ?it/s]"
            ],
            "application/vnd.jupyter.widget-view+json": {
              "version_major": 2,
              "version_minor": 0,
              "model_id": "f2d863ad0c9d46bc9aa80f6b50e9a3b2"
            }
          },
          "metadata": {}
        },
        {
          "output_type": "stream",
          "name": "stderr",
          "text": [
            "/usr/local/lib/python3.10/dist-packages/transformers/tokenization_utils_base.py:1601: FutureWarning: `clean_up_tokenization_spaces` was not set. It will be set to `True` by default. This behavior will be depracted in transformers v4.45, and will be then set to `False` by default. For more details check this issue: https://github.com/huggingface/transformers/issues/31884\n",
            "  warnings.warn(\n",
            "/usr/local/lib/python3.10/dist-packages/transformers/convert_slow_tokenizer.py:551: UserWarning: The sentencepiece tokenizer that you are converting to a fast tokenizer uses the byte fallback option which is not implemented in the fast tokenizers. In practice this means that the fast version of the tokenizer can produce unknown tokens whereas the sentencepiece version would have converted these unknown tokens into a sequence of byte tokens matching the original piece of text.\n",
            "  warnings.warn(\n"
          ]
        }
      ]
    },
    {
      "cell_type": "markdown",
      "source": [
        "To remove the PII from a chunk of text we can define a simple function that will:\n",
        "\n",
        "1. Pass the text chunk to GLiNER model that will return a list of identified PII entities with their text and start/end character positions.\n",
        "2. Use those start/end positions to substitute the text with asterisk characters, effectively removing the PII.\n",
        "3. For a prettier result, replace `******`-like substrings with `[REDACTED]`, and return cleaned up text."
      ],
      "metadata": {
        "id": "Rgsps8R7I8na"
      }
    },
    {
      "cell_type": "code",
      "source": [
        "import re\n",
        "\n",
        "def remove_pii_from_chunk(chunk_text):\n",
        "  entities = model.predict_entities(chunk_text, pii_categories, flat_ner=False, threshold=0.3)\n",
        "\n",
        "  for entity in entities:\n",
        "      chunk_text = chunk_text[:entity['start']] + '*' * len(entity['text']) + chunk_text[entity['end']:]\n",
        "\n",
        "  return re.sub(r'\\*{2,}', '[REDACTED]', chunk_text)"
      ],
      "metadata": {
        "id": "mopOvk1SXsF0"
      },
      "execution_count": null,
      "outputs": []
    },
    {
      "cell_type": "markdown",
      "source": [
        "Let's see what the result will look like for the chunk that we saw earlier:"
      ],
      "metadata": {
        "id": "abu28cbULs-s"
      }
    },
    {
      "cell_type": "code",
      "source": [
        "cleaned_mortgage_chunk = remove_pii_from_chunk(fake_mortgage_elements[0]['text'])\n",
        "print(cleaned_mortgage_chunk)"
      ],
      "metadata": {
        "colab": {
          "base_uri": "https://localhost:8080/"
        },
        "id": "MzGA7wkMcKeR",
        "outputId": "cf4a0b7d-d509-4f49-c6e6-3a651bbdfb90"
      },
      "execution_count": null,
      "outputs": [
        {
          "output_type": "stream",
          "name": "stderr",
          "text": [
            "Asking to truncate to max_length but no maximum length is provided and the model has no predefined maximum length. Default to no truncation.\n"
          ]
        },
        {
          "output_type": "stream",
          "name": "stdout",
          "text": [
            "Mortgage Agreement\n",
            "\n",
            "This Mortgage Agreement (\"Agreement\") is entered into on this 24th day of September, 2024, by and between:\n",
            "\n",
            "Borrower: [REDACTED]\n",
            "Address: [REDACTED], [REDACTED]: [REDACTED]\n",
            "\n",
            "Lender: First National Bank\n",
            "Address: [REDACTED], [REDACTED], IL [REDACTED]\n",
            "\n",
            "Property: [REDACTED], [REDACTED]\n",
            "\n",
            "WHEREAS, Borrower has applied for a loan from Lender, and Lender has agreed to make a loan to Borrower upon the terms and conditions set forth in this Agreement;\n",
            "\n",
            "NOW, THEREFORE, in consideration of the mutual covenants herein, the parties agree as follows:\n"
          ]
        }
      ]
    },
    {
      "cell_type": "markdown",
      "source": [
        "## Step 5: Apply PII removal to all chunks\n",
        "\n",
        "Now, let's apply the PII removal function to all chunks cached in the working directory. We'll simply read all the *.json outputs, clean each text chunk, and write the results back."
      ],
      "metadata": {
        "id": "DFA1OV3FLyqT"
      }
    },
    {
      "cell_type": "code",
      "execution_count": null,
      "metadata": {
        "id": "0WODIR9H_GCl"
      },
      "outputs": [],
      "source": [
        "directory = f\"{WORK_DIR}/chunk\""
      ]
    },
    {
      "cell_type": "code",
      "execution_count": null,
      "metadata": {
        "ExecuteTime": {
          "end_time": "2024-08-22T21:42:17.201191Z",
          "start_time": "2024-08-22T21:42:17.197763Z"
        },
        "id": "m8guacI4wY7J",
        "colab": {
          "base_uri": "https://localhost:8080/"
        },
        "outputId": "22676ee2-f9be-4e06-cc34-7f2e5838a137"
      },
      "outputs": [
        {
          "output_type": "stream",
          "name": "stdout",
          "text": [
            "Processing file 87d9bba0d931.json\n",
            "Successfully updated /content/temp/chunk/87d9bba0d931.json with custom metadata fields.\n",
            "Processing file fe83d53f4446.json\n",
            "Successfully updated /content/temp/chunk/fe83d53f4446.json with custom metadata fields.\n",
            "Processing file 6ab673436d44.json\n",
            "Successfully updated /content/temp/chunk/6ab673436d44.json with custom metadata fields.\n"
          ]
        }
      ],
      "source": [
        "for filename in os.listdir(directory):\n",
        "    if filename.endswith(\".json\"):\n",
        "        file_path = os.path.join(directory, filename)\n",
        "        print(f\"Processing file {filename}\")\n",
        "        try:\n",
        "            with open(file_path, \"r\") as file:\n",
        "                data = json.load(file)\n",
        "\n",
        "            for entry in data:\n",
        "                entry[\"text\"] = remove_pii_from_chunk(entry[\"text\"])\n",
        "\n",
        "            with open(file_path, \"w\") as file:\n",
        "                json.dump(data, file, indent=2)\n",
        "\n",
        "            print(f\"Successfully updated {file_path} with custom metadata fields.\")\n",
        "        except json.JSONDecodeError as e:\n",
        "            print(f\"Error parsing JSON in {file_path}: {e}\")\n",
        "        except IOError as e:\n",
        "            print(f\"Error reading from or writing to {file_path}: {e}\")"
      ]
    },
    {
      "cell_type": "markdown",
      "source": [
        "## Step 6: Proceed with the embedding step of the pipeline\n"
      ],
      "metadata": {
        "id": "aSqwlB8uMTjn"
      }
    },
    {
      "cell_type": "markdown",
      "source": [
        "At this point, the cached results for the chunking step have been updated.\n",
        "\n",
        "If we use the same pipeline, but add an embedding step to it, the pipeline will pick up the (modified) cached results of the chunking step, and use them to proceed with the embedding step.\n",
        "\n",
        "At this stage, you may also want to change the destination for the processing results to a vector database, such as AstraDB, MongoDB, or any other of the [supported destinations](https://docs.unstructured.io/api-reference/ingest/destination-connector/overview). Here we save the results into a new local directory."
      ],
      "metadata": {
        "id": "bOJW0K7mMcTa"
      }
    },
    {
      "cell_type": "code",
      "source": [
        "final_results = \"/content/final_results\"\n",
        "Pipeline.from_configs(\n",
        "    context=ProcessorConfig(\n",
        "        verbose=True, tqdm=True, num_processes=5, work_dir=WORK_DIR\n",
        "    ),\n",
        "    indexer_config=LocalIndexerConfig(input_path=DOCUMENTS),\n",
        "    downloader_config=LocalDownloaderConfig(),\n",
        "    source_connection_config=LocalConnectionConfig(),\n",
        "    partitioner_config=PartitionerConfig(\n",
        "        partition_by_api=True,\n",
        "        api_key=os.getenv(\"UNSTRUCTURED_API_KEY\"),\n",
        "        partition_endpoint=os.getenv(\"UNSTRUCTURED_URL\"),\n",
        "        strategy=\"fast\",\n",
        "    ),\n",
        "    chunker_config=ChunkerConfig(\n",
        "        chunking_strategy=\"by_title\",\n",
        "        chunk_max_characters=1000,\n",
        "        chunk_overlap=150,\n",
        "    ),\n",
        "    embedder_config=EmbedderConfig(\n",
        "        embedding_provider=\"huggingface\", # \"langchain-huggingface\" for ingest v<0.23\n",
        "        embedding_model_name=os.getenv(\"EMBEDDING_MODEL_NAME\"),\n",
        "    ),\n",
        "\n",
        "    uploader_config=LocalUploaderConfig(output_dir=final_results),\n",
        "\n",
        ").run()\n"
      ],
      "metadata": {
        "colab": {
          "base_uri": "https://localhost:8080/"
        },
        "id": "oyv1RiHgmR2o",
        "outputId": "da8d8c23-4a10-4be9-8136-0ea9584feadd",
        "collapsed": true
      },
      "execution_count": null,
      "outputs": [
        {
          "output_type": "stream",
          "name": "stderr",
          "text": [
            "Overriding of current TracerProvider is not allowed\n",
            "2024-09-24 18:22:52,549 MainProcess INFO     created index with configs: {\"input_path\": \"/content/data\", \"recursive\": false}, connection configs: {\"access_config\": \"**********\"}\n",
            "2024-09-24 18:22:52,555 MainProcess INFO     Created download with configs: {\"download_dir\": null}, connection configs: {\"access_config\": \"**********\"}\n",
            "2024-09-24 18:22:52,561 MainProcess INFO     created partition with configs: {\"strategy\": \"fast\", \"ocr_languages\": null, \"encoding\": null, \"additional_partition_args\": null, \"skip_infer_table_types\": null, \"fields_include\": [\"element_id\", \"text\", \"type\", \"metadata\", \"embeddings\"], \"flatten_metadata\": false, \"metadata_exclude\": [], \"metadata_include\": [], \"partition_endpoint\": \"https://api.unstructuredapp.io/general/v0/general\", \"partition_by_api\": true, \"api_key\": \"*******\", \"hi_res_model_name\": null}\n",
            "2024-09-24 18:22:52,564 MainProcess INFO     created chunk with configs: {\"chunking_strategy\": \"by_title\", \"chunking_endpoint\": \"https://api.unstructured.io/general/v0/general\", \"chunk_by_api\": false, \"chunk_api_key\": null, \"chunk_combine_text_under_n_chars\": null, \"chunk_include_orig_elements\": null, \"chunk_max_characters\": 1000, \"chunk_multipage_sections\": true, \"chunk_new_after_n_chars\": null, \"chunk_overlap\": 150, \"chunk_overlap_all\": null}\n",
            "2024-09-24 18:22:52,568 MainProcess INFO     created embed with configs: {\"embedding_provider\": \"langchain-huggingface\", \"embedding_api_key\": null, \"embedding_model_name\": \"BAAI/bge-base-en-v1.5\", \"embedding_aws_access_key_id\": null, \"embedding_aws_secret_access_key\": null, \"embedding_aws_region\": \"us-west-2\"}\n",
            "2024-09-24 18:22:52,625 MainProcess INFO     Created upload with configs: {\"output_dir\": \"/content/final_results\"}, connection configs: {\"access_config\": \"**********\"}\n",
            "2024-09-24 18:22:52,629 MainProcess INFO     running local pipeline: index (LocalIndexer) -> download (LocalDownloader) -> partition (fast) -> chunk (by_title) -> embed (langchain-huggingface) -> upload (LocalUploader) with configs: {\"reprocess\": false, \"verbose\": true, \"tqdm\": true, \"work_dir\": \"/content/temp\", \"num_processes\": 5, \"max_connections\": null, \"raise_on_error\": false, \"disable_parallelism\": false, \"preserve_downloads\": false, \"download_only\": false, \"re_download\": false, \"uncompress\": false, \"iter_delete\": false, \"delete_cache\": false, \"otel_endpoint\": null, \"status\": {}}\n",
            "2024-09-24 18:22:52,728 MainProcess INFO     index finished in 0.000245072s\n",
            "2024-09-24 18:22:52,739 MainProcess WARNING  Couldn't detect date created: 'os.stat_result' object has no attribute 'st_birthtime'\n",
            "2024-09-24 18:22:52,754 MainProcess DEBUG    generated file data: {\"identifier\": \"/content/data/Fake_Mortgage Agreement.docx\", \"connector_type\": \"local\", \"source_identifiers\": {\"filename\": \"Fake_Mortgage Agreement.docx\", \"fullpath\": \"/content/data/Fake_Mortgage Agreement.docx\", \"rel_path\": \"Fake_Mortgage Agreement.docx\"}, \"doc_type\": \"file\", \"metadata\": {\"url\": null, \"version\": null, \"record_locator\": {\"path\": \"/content/data/Fake_Mortgage Agreement.docx\"}, \"date_created\": null, \"date_modified\": \"1727191587.7643929\", \"date_processed\": \"1727202172.745017\", \"permissions_data\": [{\"mode\": 33188}], \"filesize_bytes\": 9075}, \"additional_metadata\": {}, \"reprocess\": false, \"local_download_path\": null}\n",
            "2024-09-24 18:22:52,766 MainProcess WARNING  Couldn't detect date created: 'os.stat_result' object has no attribute 'st_birthtime'\n",
            "2024-09-24 18:22:52,771 MainProcess DEBUG    generated file data: {\"identifier\": \"/content/data/Fake_CV.docx\", \"connector_type\": \"local\", \"source_identifiers\": {\"filename\": \"Fake_CV.docx\", \"fullpath\": \"/content/data/Fake_CV.docx\", \"rel_path\": \"Fake_CV.docx\"}, \"doc_type\": \"file\", \"metadata\": {\"url\": null, \"version\": null, \"record_locator\": {\"path\": \"/content/data/Fake_CV.docx\"}, \"date_created\": null, \"date_modified\": \"1727191587.7273893\", \"date_processed\": \"1727202172.770401\", \"permissions_data\": [{\"mode\": 33188}], \"filesize_bytes\": 10779}, \"additional_metadata\": {}, \"reprocess\": false, \"local_download_path\": null}\n",
            "2024-09-24 18:22:52,778 MainProcess WARNING  Couldn't detect date created: 'os.stat_result' object has no attribute 'st_birthtime'\n",
            "2024-09-24 18:22:52,781 MainProcess DEBUG    generated file data: {\"identifier\": \"/content/data/Fake_Hotel_Reservation.docx\", \"connector_type\": \"local\", \"source_identifiers\": {\"filename\": \"Fake_Hotel_Reservation.docx\", \"fullpath\": \"/content/data/Fake_Hotel_Reservation.docx\", \"rel_path\": \"Fake_Hotel_Reservation.docx\"}, \"doc_type\": \"file\", \"metadata\": {\"url\": null, \"version\": null, \"record_locator\": {\"path\": \"/content/data/Fake_Hotel_Reservation.docx\"}, \"date_created\": null, \"date_modified\": \"1727191587.7723935\", \"date_processed\": \"1727202172.7810044\", \"permissions_data\": [{\"mode\": 33188}], \"filesize_bytes\": 8827}, \"additional_metadata\": {}, \"reprocess\": false, \"local_download_path\": null}\n",
            "2024-09-24 18:22:52,787 MainProcess INFO     calling DownloadStep with 3 docs\n",
            "2024-09-24 18:22:52,790 MainProcess INFO     processing content async\n",
            "2024-09-24 18:22:52,792 MainProcess WARNING  async code being run in dedicated thread pool to not conflict with existing event loop: <_UnixSelectorEventLoop running=True closed=False debug=False>\n",
            "download:   0%|          | 0/3 [00:00<?, ?it/s]2024-09-24 18:22:52,815 MainProcess DEBUG    skipping download, file already exists locally: /content/data/Fake_CV.docx\n",
            "2024-09-24 18:22:52,818 MainProcess DEBUG    updating file data with new content: {\"identifier\": \"/content/data/Fake_CV.docx\", \"connector_type\": \"local\", \"source_identifiers\": {\"filename\": \"Fake_CV.docx\", \"fullpath\": \"/content/data/Fake_CV.docx\", \"rel_path\": \"Fake_CV.docx\"}, \"doc_type\": \"file\", \"metadata\": {\"url\": null, \"version\": null, \"record_locator\": {\"path\": \"/content/data/Fake_CV.docx\"}, \"date_created\": null, \"date_modified\": \"1727191587.7273893\", \"date_processed\": \"1727202172.770401\", \"permissions_data\": [{\"mode\": 33188}], \"filesize_bytes\": 10779}, \"additional_metadata\": {}, \"reprocess\": false, \"local_download_path\": \"/content/data/Fake_CV.docx\"}\n",
            "2024-09-24 18:22:52,822 MainProcess INFO     download finished in 0.016953817s, attributes: file_id=b359834e8dc3\n",
            "2024-09-24 18:22:52,827 MainProcess DEBUG    skipping download, file already exists locally: /content/data/Fake_Hotel_Reservation.docx\n",
            "2024-09-24 18:22:52,830 MainProcess DEBUG    updating file data with new content: {\"identifier\": \"/content/data/Fake_Hotel_Reservation.docx\", \"connector_type\": \"local\", \"source_identifiers\": {\"filename\": \"Fake_Hotel_Reservation.docx\", \"fullpath\": \"/content/data/Fake_Hotel_Reservation.docx\", \"rel_path\": \"Fake_Hotel_Reservation.docx\"}, \"doc_type\": \"file\", \"metadata\": {\"url\": null, \"version\": null, \"record_locator\": {\"path\": \"/content/data/Fake_Hotel_Reservation.docx\"}, \"date_created\": null, \"date_modified\": \"1727191587.7723935\", \"date_processed\": \"1727202172.7810044\", \"permissions_data\": [{\"mode\": 33188}], \"filesize_bytes\": 8827}, \"additional_metadata\": {}, \"reprocess\": false, \"local_download_path\": \"/content/data/Fake_Hotel_Reservation.docx\"}\n",
            "2024-09-24 18:22:52,834 MainProcess INFO     download finished in 0.00932428s, attributes: file_id=f9777ce459b9\n",
            "2024-09-24 18:22:52,839 MainProcess DEBUG    skipping download, file already exists locally: /content/data/Fake_Mortgage Agreement.docx\n",
            "2024-09-24 18:22:52,842 MainProcess DEBUG    updating file data with new content: {\"identifier\": \"/content/data/Fake_Mortgage Agreement.docx\", \"connector_type\": \"local\", \"source_identifiers\": {\"filename\": \"Fake_Mortgage Agreement.docx\", \"fullpath\": \"/content/data/Fake_Mortgage Agreement.docx\", \"rel_path\": \"Fake_Mortgage Agreement.docx\"}, \"doc_type\": \"file\", \"metadata\": {\"url\": null, \"version\": null, \"record_locator\": {\"path\": \"/content/data/Fake_Mortgage Agreement.docx\"}, \"date_created\": null, \"date_modified\": \"1727191587.7643929\", \"date_processed\": \"1727202172.745017\", \"permissions_data\": [{\"mode\": 33188}], \"filesize_bytes\": 9075}, \"additional_metadata\": {}, \"reprocess\": false, \"local_download_path\": \"/content/data/Fake_Mortgage Agreement.docx\"}\n",
            "2024-09-24 18:22:52,848 MainProcess INFO     download finished in 0.010945685s, attributes: file_id=1643237ed44f\n",
            "download: 100%|██████████| 3/3 [00:00<00:00, 63.94it/s]\n",
            "2024-09-24 18:22:52,854 MainProcess INFO     download step finished in 0.066409355s\n",
            "2024-09-24 18:22:52,860 MainProcess INFO     calling PartitionStep with 3 docs\n",
            "2024-09-24 18:22:52,861 MainProcess INFO     processing content async\n",
            "2024-09-24 18:22:52,863 MainProcess WARNING  async code being run in dedicated thread pool to not conflict with existing event loop: <_UnixSelectorEventLoop running=True closed=False debug=False>\n",
            "partition:   0%|          | 0/3 [00:00<?, ?it/s]2024-09-24 18:22:52,878 MainProcess DEBUG    skipping partitioning, output already exists: /content/temp/partition/b6add7032ecd.json\n",
            "2024-09-24 18:22:52,880 MainProcess INFO     partition finished in 0.006334421s, attributes: file_id=1643237ed44f\n",
            "2024-09-24 18:22:52,886 MainProcess DEBUG    skipping partitioning, output already exists: /content/temp/partition/14d37523db3b.json\n",
            "2024-09-24 18:22:52,888 MainProcess INFO     partition finished in 0.006325813s, attributes: file_id=b359834e8dc3\n",
            "2024-09-24 18:22:52,896 MainProcess DEBUG    skipping partitioning, output already exists: /content/temp/partition/e9954ff04769.json\n",
            "2024-09-24 18:22:52,898 MainProcess INFO     partition finished in 0.006581452s, attributes: file_id=f9777ce459b9\n",
            "partition: 100%|██████████| 3/3 [00:00<00:00, 109.10it/s]\n",
            "2024-09-24 18:22:52,906 MainProcess INFO     partition step finished in 0.046210704s\n",
            "2024-09-24 18:22:52,908 MainProcess INFO     calling ChunkStep with 3 docs\n",
            "2024-09-24 18:22:52,909 MainProcess INFO     processing content across processes\n",
            "Overriding of current TracerProvider is not allowed\n",
            "Overriding of current TracerProvider is not allowed\n",
            "Overriding of current TracerProvider is not allowed\n",
            "Overriding of current TracerProvider is not allowed\n",
            "chunk:   0%|          | 0/3 [00:00<?, ?it/s]Overriding of current TracerProvider is not allowed\n",
            "2024-09-24 18:22:53,328 ForkPoolWorker-15 DEBUG    skipping chunking, output already exists: /content/temp/chunk/fe83d53f4446.json\n",
            "2024-09-24 18:22:53,337 ForkPoolWorker-15 INFO     chunk finished in 0.021331185s, attributes: file_id=f9777ce459b9\n",
            "2024-09-24 18:22:53,321 ForkPoolWorker-13 DEBUG    skipping chunking, output already exists: /content/temp/chunk/87d9bba0d931.json\n",
            "2024-09-24 18:22:53,352 ForkPoolWorker-13 INFO     chunk finished in 0.038915798s, attributes: file_id=1643237ed44f\n",
            "2024-09-24 18:22:53,357 ForkPoolWorker-13 INFO     chunk finished in 0.046126712s, attributes: file_id=1643237ed44f\n",
            "2024-09-24 18:22:53,341 ForkPoolWorker-15 INFO     chunk finished in 0.03083551s, attributes: file_id=f9777ce459b9\n",
            "2024-09-24 18:22:53,353 ForkPoolWorker-14 DEBUG    skipping chunking, output already exists: /content/temp/chunk/6ab673436d44.json\n",
            "2024-09-24 18:22:53,369 ForkPoolWorker-14 INFO     chunk finished in 0.030962981s, attributes: file_id=b359834e8dc3\n",
            "2024-09-24 18:22:53,377 ForkPoolWorker-14 INFO     chunk finished in 0.044017005s, attributes: file_id=b359834e8dc3\n",
            "chunk: 100%|██████████| 3/3 [00:00<00:00, 31.99it/s]\n",
            "2024-09-24 18:22:53,707 MainProcess INFO     chunk step finished in 0.798625851s\n",
            "2024-09-24 18:22:53,713 MainProcess INFO     calling EmbedStep with 3 docs\n",
            "2024-09-24 18:22:53,717 MainProcess INFO     processing content across processes\n",
            "Overriding of current TracerProvider is not allowed\n",
            "Overriding of current TracerProvider is not allowed\n",
            "Overriding of current TracerProvider is not allowed\n",
            "Overriding of current TracerProvider is not allowed\n",
            "embed:   0%|          | 0/3 [00:00<?, ?it/s]Overriding of current TracerProvider is not allowed\n",
            "2024-09-24 18:22:54,106 ForkPoolWorker-18 DEBUG    skipping embedding, output already exists: /content/temp/embed/f40125b983a1.json\n",
            "2024-09-24 18:22:54,123 ForkPoolWorker-18 INFO     embed finished in 0.027835771s, attributes: file_id=f9777ce459b9\n",
            "2024-09-24 18:22:54,114 ForkPoolWorker-19 DEBUG    skipping embedding, output already exists: /content/temp/embed/2747e8cf12e9.json\n",
            "2024-09-24 18:22:54,117 ForkPoolWorker-18 INFO     embed finished in 0.019333139s, attributes: file_id=f9777ce459b9\n",
            "2024-09-24 18:22:54,120 ForkPoolWorker-20 DEBUG    skipping embedding, output already exists: /content/temp/embed/fdf904c6273d.json\n",
            "2024-09-24 18:22:54,133 ForkPoolWorker-19 INFO     embed finished in 0.023825136s, attributes: file_id=1643237ed44f\n",
            "2024-09-24 18:22:54,135 ForkPoolWorker-20 INFO     embed finished in 0.020521313s, attributes: file_id=b359834e8dc3\n",
            "2024-09-24 18:22:54,139 ForkPoolWorker-19 INFO     embed finished in 0.032189639s, attributes: file_id=1643237ed44f\n",
            "2024-09-24 18:22:54,144 ForkPoolWorker-20 INFO     embed finished in 0.03117111s, attributes: file_id=b359834e8dc3\n",
            "embed: 100%|██████████| 3/3 [00:00<00:00, 37.99it/s]\n",
            "2024-09-24 18:22:54,476 MainProcess INFO     embed step finished in 0.762845905s\n",
            "2024-09-24 18:22:54,480 MainProcess INFO     calling UploadStep with 3 docs\n",
            "2024-09-24 18:22:54,482 MainProcess INFO     processing content across processes\n",
            "Overriding of current TracerProvider is not allowed\n",
            "Overriding of current TracerProvider is not allowed\n",
            "Overriding of current TracerProvider is not allowed\n",
            "Overriding of current TracerProvider is not allowed\n",
            "upload:   0%|          | 0/3 [00:00<?, ?it/s]2024-09-24 18:22:54,820 ForkPoolWorker-24 DEBUG    copying file from /content/temp/embed/2747e8cf12e9.json to /content/final_results/Fake_Mortgage Agreement.docx.json\n",
            "2024-09-24 18:22:54,830 ForkPoolWorker-25 DEBUG    copying file from /content/temp/embed/fdf904c6273d.json to /content/final_results/Fake_CV.docx.json\n",
            "Overriding of current TracerProvider is not allowed\n",
            "2024-09-24 18:22:54,836 ForkPoolWorker-23 DEBUG    copying file from /content/temp/embed/f40125b983a1.json to /content/final_results/Fake_Hotel_Reservation.docx.json\n",
            "2024-09-24 18:22:54,856 ForkPoolWorker-23 INFO     upload finished in 0.023959393s, attributes: file_id=f9777ce459b9\n",
            "2024-09-24 18:22:54,858 ForkPoolWorker-23 INFO     upload finished in 0.031583632s, attributes: file_id=f9777ce459b9\n",
            "2024-09-24 18:22:54,865 ForkPoolWorker-24 INFO     upload finished in 0.051743099s, attributes: file_id=1643237ed44f\n",
            "2024-09-24 18:22:54,868 ForkPoolWorker-25 INFO     upload finished in 0.042103925s, attributes: file_id=b359834e8dc3\n",
            "2024-09-24 18:22:54,877 ForkPoolWorker-24 INFO     upload finished in 0.065451872s, attributes: file_id=1643237ed44f\n",
            "2024-09-24 18:22:54,885 ForkPoolWorker-25 INFO     upload finished in 0.060912505s, attributes: file_id=b359834e8dc3\n",
            "upload: 100%|██████████| 3/3 [00:00<00:00, 31.93it/s]\n",
            "2024-09-24 18:22:55,221 MainProcess INFO     upload step finished in 0.741716758s\n",
            "2024-09-24 18:22:55,230 MainProcess INFO     ingest process finished in 2.601218785s\n"
          ]
        }
      ]
    },
    {
      "cell_type": "markdown",
      "source": [
        "Once we've processed all of the documents, you'll find them in the `\"/content/final_results\"` directory, or in your AstraDB, if you chose to use the commented out connector. Let's take a look at another processed document, this time we'll print out all of it:"
      ],
      "metadata": {
        "id": "rmD_3TMRNjxj"
      }
    },
    {
      "cell_type": "code",
      "source": [
        "hotel = \"/content/final_results/Fake_Hotel_Reservation.docx.json\"\n",
        "with open(hotel, 'r') as file:\n",
        "    cleaned_hotel_elements = json.load(file)\n",
        "\n",
        "for element in cleaned_hotel_elements:\n",
        "    print(element['text'])"
      ],
      "metadata": {
        "colab": {
          "base_uri": "https://localhost:8080/"
        },
        "id": "boo-r04MroDm",
        "outputId": "c67843a2-9e23-4300-a577-23cb93cc7f0c"
      },
      "execution_count": null,
      "outputs": [
        {
          "output_type": "stream",
          "name": "stdout",
          "text": [
            "Subject: Your Reservation Confirmation - Oceanview Grand Hotel\n",
            "\n",
            "Dear [REDACTED],\n",
            "\n",
            "Thank you for choosing Oceanview Grand Hotel! We're excited to welcome you. Below are the details of your upcoming stay:\n",
            "\n",
            "Reservation Number: [REDACTED]\n",
            "[REDACTED]: [REDACTED]\n",
            "Check-in Date: Friday, October 5, 2024 after 3:00 PM\n",
            "Check-out Date: Monday, October 8, 2024 by 11:00 AM\n",
            "Number of Guests: 2 Adults, 1 Child\n",
            "\n",
            "Room Type: Deluxe Oceanfront Suite\n",
            "[REDACTED]: [REDACTED]\n",
            "Total Amount: [REDACTED] (inclusive of taxes and fees)\n",
            "\n",
            "Your Stay Includes:\n",
            "\n",
            "Complimentary Wi-Fi\n",
            "\n",
            "Daily breakfast for two\n",
            "\n",
            "Access to the rooftop pool and lounge\n",
            "\n",
            "Complimentary beach towels and chairs\n",
            "\n",
            "Special Requests:\n",
            "\n",
            "King-sized bed\n",
            "\n",
            "Crib for infant\n",
            "Important Information:\n",
            "\n",
            "Check-in Instructions: Please bring a valid ID and the credit card used for booking.\n",
            "\n",
            "Cancellation Policy: Free cancellation until 48 hours before check-in. A [REDACTED] applies if canceled after this period.\n",
            "\n",
            "COVID-19 Safety Measures: Masks are optional for fully vaccinated guests. Enhanced cleaning protocols are in place.\n",
            "\n",
            "Contact Us:\n",
            "\n",
            "If you need any assistance or have questions about your reservation, feel free to reach out to us at [REDACTED] or call us at [REDACTED].\n",
            "\n",
            "We look forward to making your stay with us a memorable one!\n",
            "\n",
            "Warm regards,\n",
            "The Oceanview Grand Hotel Team\n",
            "[REDACTED], [REDACTED], [REDACTED]\n",
            "[REDACTED]\n",
            "www.oceanviewgrand.com\n",
            "\n",
            "Follow us on [Facebook] | [Instagram] | [Twitter] | [Unsubscribe Link]\n"
          ]
        }
      ]
    },
    {
      "cell_type": "markdown",
      "source": [
        "For an off-the-shelf model that required zero fine-tuning and offers you vast flexibility in how you define PII categories, this is a great result!\n",
        "\n",
        "By combining the Unstructured API with the GLiNER model, we can build a complete ETL pipeline that handles PII removal and prepares unstructured data for use in downstream applications. This approach ensures that sensitive information is properly redacted while still making the data valuable for your RAG."
      ],
      "metadata": {
        "id": "T5PBCIY3srie"
      }
    }
  ],
  "metadata": {
    "colab": {
      "provenance": []
    },
    "kernelspec": {
      "display_name": "Python 3 (ipykernel)",
      "language": "python",
      "name": "python3"
    },
    "language_info": {
      "codemirror_mode": {
        "name": "ipython",
        "version": 3
      },
      "file_extension": ".py",
      "mimetype": "text/x-python",
      "name": "python",
      "nbconvert_exporter": "python",
      "pygments_lexer": "ipython3",
      "version": "3.12.1"
    },
    "widgets": {
      "application/vnd.jupyter.widget-state+json": {
        "f2d863ad0c9d46bc9aa80f6b50e9a3b2": {
          "model_module": "@jupyter-widgets/controls",
          "model_name": "HBoxModel",
          "model_module_version": "1.5.0",
          "state": {
            "_dom_classes": [],
            "_model_module": "@jupyter-widgets/controls",
            "_model_module_version": "1.5.0",
            "_model_name": "HBoxModel",
            "_view_count": null,
            "_view_module": "@jupyter-widgets/controls",
            "_view_module_version": "1.5.0",
            "_view_name": "HBoxView",
            "box_style": "",
            "children": [
              "IPY_MODEL_ddc3431f0a7540f88e0cb70596ce4fcb",
              "IPY_MODEL_b3d8157918d04b96acb93627bb4cb767",
              "IPY_MODEL_1e7b8ffa3cdb4c24b4cca073f2657ca3"
            ],
            "layout": "IPY_MODEL_5b5a176039584a649261ed7e21b3bb95"
          }
        },
        "ddc3431f0a7540f88e0cb70596ce4fcb": {
          "model_module": "@jupyter-widgets/controls",
          "model_name": "HTMLModel",
          "model_module_version": "1.5.0",
          "state": {
            "_dom_classes": [],
            "_model_module": "@jupyter-widgets/controls",
            "_model_module_version": "1.5.0",
            "_model_name": "HTMLModel",
            "_view_count": null,
            "_view_module": "@jupyter-widgets/controls",
            "_view_module_version": "1.5.0",
            "_view_name": "HTMLView",
            "description": "",
            "description_tooltip": null,
            "layout": "IPY_MODEL_4e09b26ad95b487ab4dc16982fdfd1e8",
            "placeholder": "​",
            "style": "IPY_MODEL_e60f2bf4b3db4e9281b40f711be6cfbd",
            "value": "Fetching 4 files: 100%"
          }
        },
        "b3d8157918d04b96acb93627bb4cb767": {
          "model_module": "@jupyter-widgets/controls",
          "model_name": "FloatProgressModel",
          "model_module_version": "1.5.0",
          "state": {
            "_dom_classes": [],
            "_model_module": "@jupyter-widgets/controls",
            "_model_module_version": "1.5.0",
            "_model_name": "FloatProgressModel",
            "_view_count": null,
            "_view_module": "@jupyter-widgets/controls",
            "_view_module_version": "1.5.0",
            "_view_name": "ProgressView",
            "bar_style": "success",
            "description": "",
            "description_tooltip": null,
            "layout": "IPY_MODEL_bc290bc03bf04c7cb74d4e117bae1662",
            "max": 4,
            "min": 0,
            "orientation": "horizontal",
            "style": "IPY_MODEL_3a0e3f0348c44ae89b18f58dcb55c795",
            "value": 4
          }
        },
        "1e7b8ffa3cdb4c24b4cca073f2657ca3": {
          "model_module": "@jupyter-widgets/controls",
          "model_name": "HTMLModel",
          "model_module_version": "1.5.0",
          "state": {
            "_dom_classes": [],
            "_model_module": "@jupyter-widgets/controls",
            "_model_module_version": "1.5.0",
            "_model_name": "HTMLModel",
            "_view_count": null,
            "_view_module": "@jupyter-widgets/controls",
            "_view_module_version": "1.5.0",
            "_view_name": "HTMLView",
            "description": "",
            "description_tooltip": null,
            "layout": "IPY_MODEL_e313ac707b19414685f8b2e8b84ebc9a",
            "placeholder": "​",
            "style": "IPY_MODEL_872754986d5f4099a0d6a26f541966a7",
            "value": " 4/4 [00:00&lt;00:00, 179.99it/s]"
          }
        },
        "5b5a176039584a649261ed7e21b3bb95": {
          "model_module": "@jupyter-widgets/base",
          "model_name": "LayoutModel",
          "model_module_version": "1.2.0",
          "state": {
            "_model_module": "@jupyter-widgets/base",
            "_model_module_version": "1.2.0",
            "_model_name": "LayoutModel",
            "_view_count": null,
            "_view_module": "@jupyter-widgets/base",
            "_view_module_version": "1.2.0",
            "_view_name": "LayoutView",
            "align_content": null,
            "align_items": null,
            "align_self": null,
            "border": null,
            "bottom": null,
            "display": null,
            "flex": null,
            "flex_flow": null,
            "grid_area": null,
            "grid_auto_columns": null,
            "grid_auto_flow": null,
            "grid_auto_rows": null,
            "grid_column": null,
            "grid_gap": null,
            "grid_row": null,
            "grid_template_areas": null,
            "grid_template_columns": null,
            "grid_template_rows": null,
            "height": null,
            "justify_content": null,
            "justify_items": null,
            "left": null,
            "margin": null,
            "max_height": null,
            "max_width": null,
            "min_height": null,
            "min_width": null,
            "object_fit": null,
            "object_position": null,
            "order": null,
            "overflow": null,
            "overflow_x": null,
            "overflow_y": null,
            "padding": null,
            "right": null,
            "top": null,
            "visibility": null,
            "width": null
          }
        },
        "4e09b26ad95b487ab4dc16982fdfd1e8": {
          "model_module": "@jupyter-widgets/base",
          "model_name": "LayoutModel",
          "model_module_version": "1.2.0",
          "state": {
            "_model_module": "@jupyter-widgets/base",
            "_model_module_version": "1.2.0",
            "_model_name": "LayoutModel",
            "_view_count": null,
            "_view_module": "@jupyter-widgets/base",
            "_view_module_version": "1.2.0",
            "_view_name": "LayoutView",
            "align_content": null,
            "align_items": null,
            "align_self": null,
            "border": null,
            "bottom": null,
            "display": null,
            "flex": null,
            "flex_flow": null,
            "grid_area": null,
            "grid_auto_columns": null,
            "grid_auto_flow": null,
            "grid_auto_rows": null,
            "grid_column": null,
            "grid_gap": null,
            "grid_row": null,
            "grid_template_areas": null,
            "grid_template_columns": null,
            "grid_template_rows": null,
            "height": null,
            "justify_content": null,
            "justify_items": null,
            "left": null,
            "margin": null,
            "max_height": null,
            "max_width": null,
            "min_height": null,
            "min_width": null,
            "object_fit": null,
            "object_position": null,
            "order": null,
            "overflow": null,
            "overflow_x": null,
            "overflow_y": null,
            "padding": null,
            "right": null,
            "top": null,
            "visibility": null,
            "width": null
          }
        },
        "e60f2bf4b3db4e9281b40f711be6cfbd": {
          "model_module": "@jupyter-widgets/controls",
          "model_name": "DescriptionStyleModel",
          "model_module_version": "1.5.0",
          "state": {
            "_model_module": "@jupyter-widgets/controls",
            "_model_module_version": "1.5.0",
            "_model_name": "DescriptionStyleModel",
            "_view_count": null,
            "_view_module": "@jupyter-widgets/base",
            "_view_module_version": "1.2.0",
            "_view_name": "StyleView",
            "description_width": ""
          }
        },
        "bc290bc03bf04c7cb74d4e117bae1662": {
          "model_module": "@jupyter-widgets/base",
          "model_name": "LayoutModel",
          "model_module_version": "1.2.0",
          "state": {
            "_model_module": "@jupyter-widgets/base",
            "_model_module_version": "1.2.0",
            "_model_name": "LayoutModel",
            "_view_count": null,
            "_view_module": "@jupyter-widgets/base",
            "_view_module_version": "1.2.0",
            "_view_name": "LayoutView",
            "align_content": null,
            "align_items": null,
            "align_self": null,
            "border": null,
            "bottom": null,
            "display": null,
            "flex": null,
            "flex_flow": null,
            "grid_area": null,
            "grid_auto_columns": null,
            "grid_auto_flow": null,
            "grid_auto_rows": null,
            "grid_column": null,
            "grid_gap": null,
            "grid_row": null,
            "grid_template_areas": null,
            "grid_template_columns": null,
            "grid_template_rows": null,
            "height": null,
            "justify_content": null,
            "justify_items": null,
            "left": null,
            "margin": null,
            "max_height": null,
            "max_width": null,
            "min_height": null,
            "min_width": null,
            "object_fit": null,
            "object_position": null,
            "order": null,
            "overflow": null,
            "overflow_x": null,
            "overflow_y": null,
            "padding": null,
            "right": null,
            "top": null,
            "visibility": null,
            "width": null
          }
        },
        "3a0e3f0348c44ae89b18f58dcb55c795": {
          "model_module": "@jupyter-widgets/controls",
          "model_name": "ProgressStyleModel",
          "model_module_version": "1.5.0",
          "state": {
            "_model_module": "@jupyter-widgets/controls",
            "_model_module_version": "1.5.0",
            "_model_name": "ProgressStyleModel",
            "_view_count": null,
            "_view_module": "@jupyter-widgets/base",
            "_view_module_version": "1.2.0",
            "_view_name": "StyleView",
            "bar_color": null,
            "description_width": ""
          }
        },
        "e313ac707b19414685f8b2e8b84ebc9a": {
          "model_module": "@jupyter-widgets/base",
          "model_name": "LayoutModel",
          "model_module_version": "1.2.0",
          "state": {
            "_model_module": "@jupyter-widgets/base",
            "_model_module_version": "1.2.0",
            "_model_name": "LayoutModel",
            "_view_count": null,
            "_view_module": "@jupyter-widgets/base",
            "_view_module_version": "1.2.0",
            "_view_name": "LayoutView",
            "align_content": null,
            "align_items": null,
            "align_self": null,
            "border": null,
            "bottom": null,
            "display": null,
            "flex": null,
            "flex_flow": null,
            "grid_area": null,
            "grid_auto_columns": null,
            "grid_auto_flow": null,
            "grid_auto_rows": null,
            "grid_column": null,
            "grid_gap": null,
            "grid_row": null,
            "grid_template_areas": null,
            "grid_template_columns": null,
            "grid_template_rows": null,
            "height": null,
            "justify_content": null,
            "justify_items": null,
            "left": null,
            "margin": null,
            "max_height": null,
            "max_width": null,
            "min_height": null,
            "min_width": null,
            "object_fit": null,
            "object_position": null,
            "order": null,
            "overflow": null,
            "overflow_x": null,
            "overflow_y": null,
            "padding": null,
            "right": null,
            "top": null,
            "visibility": null,
            "width": null
          }
        },
        "872754986d5f4099a0d6a26f541966a7": {
          "model_module": "@jupyter-widgets/controls",
          "model_name": "DescriptionStyleModel",
          "model_module_version": "1.5.0",
          "state": {
            "_model_module": "@jupyter-widgets/controls",
            "_model_module_version": "1.5.0",
            "_model_name": "DescriptionStyleModel",
            "_view_count": null,
            "_view_module": "@jupyter-widgets/base",
            "_view_module_version": "1.2.0",
            "_view_name": "StyleView",
            "description_width": ""
          }
        }
      }
    }
  },
  "nbformat": 4,
  "nbformat_minor": 0
}