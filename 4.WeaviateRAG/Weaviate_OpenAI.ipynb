{
  "nbformat": 4,
  "nbformat_minor": 0,
  "metadata": {
    "colab": {
      "provenance": []
    },
    "kernelspec": {
      "name": "python3",
      "display_name": "Python 3"
    },
    "language_info": {
      "name": "python"
    }
  },
  "cells": [
    {
      "cell_type": "markdown",
      "source": [
        "## Hack Day Quick Start challenge: try out this workflow (or a modification) on one of your own files!"
      ],
      "metadata": {
        "id": "6Hs1nBFasMGM"
      }
    },
    {
      "cell_type": "markdown",
      "source": [
        "## Embed your Local Docs in a Weaviate Vector Database with Unstructured!\n"
      ],
      "metadata": {
        "id": "5P2JKwRnoTli"
      }
    },
    {
      "cell_type": "markdown",
      "source": [
        "Author: Nina Lopatina from Unstructured\n",
        "\n",
        "Nina's X handle: [@NinaLopatina](https://x.com/ninalopatina)\n",
        "\n",
        "Nina's LinkedIn: https://www.linkedin.com/in/ninalopatina\n",
        "\n",
        "Last updated: 09.06.24\n",
        "\n",
        "Weaviate content sections borrowed from @MariaKhalusova"
      ],
      "metadata": {
        "id": "eqeNxPBPI34d"
      }
    },
    {
      "cell_type": "markdown",
      "source": [
        "Do you have some local files in that you want to parse, embed, and import to your Weaviate Vector DataBase for RAG? If so, this notebook will guide you through all the steps to do so!\n",
        "\n",
        "Here are the initial non-code steps:\n",
        "\n",
        "A. Sign up for your [Unstructured API key](https://app.unstructured.io/) with a 2 week free trial for up to 1000 documents. You can find your API credentials in your dashboard.\n",
        "\n",
        "B. Decide on your [source connector](https://docs.unstructured.io/api-reference/ingest/source-connectors/overview). This notebook uses the [Local](https://docs.unstructured.io/api-reference/ingest/source-connectors/local) but feel free to use the connector of your choice.\n",
        "\n",
        "C. Sign up to get your [Weaviate](https://weaviate.io/) URL and API Key after you create a cluster. Here is our documentation for the [Weaviate destination connector](https://docs.unstructured.io/api-reference/ingest/destination-connector/weaviate) with more info  \n",
        "\n",
        "D. Decide on which embeddings to use, and obtain the appropriate API Token as needed (in this notebook we are using OpenAI for embedding generation).\n",
        "\n",
        "Set up the any private API keys in Google Colab [Secrets](https://www.youtube.com/watch?v=LPa51KxqUAw) (or adapt the notebook to work with .env instead)\n",
        "\n",
        "_______________\n",
        "\n",
        "\n",
        "\n",
        "\n",
        "1. Now starting with the code below, we will install all the necessary libraries"
      ],
      "metadata": {
        "id": "qEL2WdHnlxC5"
      }
    },
    {
      "cell_type": "code",
      "source": [
        "!pip install -U -q \"unstructured-ingest[weaviate]\" \"unstructured[openai]\""
      ],
      "metadata": {
        "id": "9IvXNyEwIROr",
        "collapsed": true
      },
      "execution_count": null,
      "outputs": []
    },
    {
      "cell_type": "markdown",
      "source": [
        "2. Set the below variables:\n",
        "\n",
        "A: Pull in your secrets"
      ],
      "metadata": {
        "id": "wKZfOVXAMfxX"
      }
    },
    {
      "cell_type": "code",
      "source": [
        "from google.colab import userdata\n",
        "import os\n",
        "\n",
        "os.environ['UNSTRUCTURED_API_KEY'] = userdata.get('UNSTRUCTURED_API_KEY')\n",
        "os.environ['UNSTRUCTURED_API_URL'] = userdata.get('UNSTRUCTURED_API_URL')\n",
        "os.environ['WEAVIATE_API_KEY'] = userdata.get('WEAVIATE_API_KEY')\n",
        "os.environ['WEAVIATE_URL'] = userdata.get('WEAVIATE_URL')\n",
        "os.environ['OPENAI_API_KEY'] = userdata.get('OPENAI_API_KEY')"
      ],
      "metadata": {
        "id": "l06uMBNWMfdU"
      },
      "execution_count": null,
      "outputs": []
    },
    {
      "cell_type": "markdown",
      "source": [
        "B. Set up your local file; make sure you have uploaded a file to the path you specify (click the folder icon on the left the upload), if you are running the Colab instance. I am using [constitution.pdf](https://constitutioncenter.org/media/files/constitution.pdf) in this example. Use any file for your quick start!"
      ],
      "metadata": {
        "id": "SXXbzrK8NAtd"
      }
    },
    {
      "cell_type": "code",
      "source": [
        "os.environ['LOCAL_FILE_INPUT_DIR'] = '/content/constitution.pdf'"
      ],
      "metadata": {
        "id": "EfjhPIOBNFqe"
      },
      "execution_count": null,
      "outputs": []
    },
    {
      "cell_type": "markdown",
      "source": [
        "C. We will set additional parameters here, that are not secret, that we can modify more easily in a notebook"
      ],
      "metadata": {
        "id": "CKP8ULFQzUDA"
      }
    },
    {
      "cell_type": "code",
      "source": [
        "os.environ['WEAVIATE_COLLECTION_CLASS_NAME'] = 'UnstructuredOAI'\n",
        "os.environ['EMBEDDING_MODEL'] = '002'\n",
        "os.environ['EMBEDDING_NAME'] = 'ada'"
      ],
      "metadata": {
        "id": "w_fTiyeuUcQ1"
      },
      "execution_count": null,
      "outputs": []
    },
    {
      "cell_type": "markdown",
      "source": [
        "3. Connect to Weaviate using [Weaviate Cloud](https://console.weaviate.cloud/), [Weaviate Embedded](https://weaviate.io/developers/weaviate/installation/embedded), or [locally](https://weaviate.io/developers/weaviate/installation/docker-compose) and configure your Weaviate Schema."
      ],
      "metadata": {
        "id": "tvRC6Gb7QypN"
      }
    },
    {
      "cell_type": "code",
      "source": [
        "# Weaviate Cloud\n",
        "\n",
        "import weaviate\n",
        "\n",
        "# Set these environment variables\n",
        "URL = os.getenv(\"WEAVIATE_URL\")\n",
        "APIKEY = os.getenv(\"WEAVIATE_API_KEY\")\n",
        "\n",
        "# Connect to your WCD instance\n",
        "client = weaviate.connect_to_wcs(\n",
        "    cluster_url=URL,\n",
        "    auth_credentials=weaviate.auth.AuthApiKey(APIKEY),\n",
        "    headers={\n",
        "        \"X-OpenAI-Api-Key\": os.getenv(\"OPENAI_API_KEY\")  # Replace with your OpenAI key\n",
        "    }\n",
        ")\n",
        "\n",
        "client.is_ready()"
      ],
      "metadata": {
        "colab": {
          "base_uri": "https://localhost:8080/"
        },
        "id": "yG26GXKnQyE5",
        "outputId": "deefdae4-f6db-49b7-b906-c477da8e24e9"
      },
      "execution_count": null,
      "outputs": [
        {
          "output_type": "stream",
          "name": "stderr",
          "text": [
            "/usr/local/lib/python3.10/dist-packages/google/protobuf/runtime_version.py:112: UserWarning: Protobuf gencode version 5.27.2 is older than the runtime version 5.28.0 at grpc_health/v1/health.proto. Please avoid checked-in Protobuf gencode that can be obsolete.\n",
            "  warnings.warn(\n"
          ]
        },
        {
          "output_type": "execute_result",
          "data": {
            "text/plain": [
              "True"
            ]
          },
          "metadata": {},
          "execution_count": 8
        }
      ]
    },
    {
      "cell_type": "code",
      "source": [
        "import weaviate.classes.config as wc\n",
        "from weaviate.classes.config import Configure\n",
        "from weaviate.classes.config import ReferenceProperty\n",
        "\n",
        "client.collections.create(\n",
        "    name=os.getenv(\"WEAVIATE_COLLECTION_CLASS_NAME\"),\n",
        "\n",
        "    vectorizer_config=wc.Configure.Vectorizer.text2vec_openai( # specify the vectorizer and model type you're using\n",
        "        model=os.getenv(\"EMBEDDING_NAME\"),\n",
        "        model_version=os.getenv(\"EMBEDDING_MODEL\"),\n",
        "        type_=\"text\",\n",
        "    ),\n",
        "    generative_config=wc.Configure.Generative.openai(\n",
        "        model=\"gpt-4\"  # Optional - Defaults to `gpt-3.5-turbo`\n",
        "    ),\n",
        "\n",
        "\n",
        "    # Weaviate can infer schema, but it is considered best practice to define it upfront\n",
        "    properties=[\n",
        "        wc.Property(name=\"type\", data_type=wc.DataType.TEXT),\n",
        "        wc.Property(name=\"element_id\", data_type=wc.DataType.TEXT, skip_vectorization=True),\n",
        "        wc.Property(name=\"text\", data_type=wc.DataType.TEXT),\n",
        "        wc.Property(name=\"embeddings\", data_type=wc.DataType.NUMBER_ARRAY, skip_vectorization=True),\n",
        "        wc.Property(name=\"metadata\", data_type=wc.DataType.OBJECT, nested_properties=[\n",
        "            wc.Property(name=\"filename\", data_type=wc.DataType.TEXT),\n",
        "            wc.Property(name=\"filetype\", data_type=wc.DataType.TEXT),\n",
        "            wc.Property(name=\"languages\", data_type=wc.DataType.TEXT_ARRAY),\n",
        "            wc.Property(name=\"page_number\",  data_type=wc.DataType.TEXT, skip_vectorization=True),\n",
        "\n",
        "        ])\n",
        "    ],\n",
        ")"
      ],
      "metadata": {
        "colab": {
          "base_uri": "https://localhost:8080/"
        },
        "id": "uFcaTmHwQ4f_",
        "outputId": "0f1d0736-e9b7-41c1-8e35-1f66d74ba7bd"
      },
      "execution_count": null,
      "outputs": [
        {
          "output_type": "execute_result",
          "data": {
            "text/plain": [
              "<weaviate.collections.collection.sync.Collection at 0x7e984c09ee60>"
            ]
          },
          "metadata": {},
          "execution_count": 9
        }
      ]
    },
    {
      "cell_type": "markdown",
      "source": [
        "4. Set up Unstructured API access and process the documents as per our [Weaviate destination connector](https://docs.unstructured.io/api-reference/ingest/destination-connector/weaviate) with a local source.\n",
        "\n",
        "  At the end of this workflow, your unstructured documents have been extracted, chunked, summarized, embedded, and loaded in your Weaviate DB!"
      ],
      "metadata": {
        "id": "s78p7XTTuGlJ"
      }
    },
    {
      "cell_type": "code",
      "source": [
        "import os\n",
        "\n",
        "from unstructured_ingest.v2.pipeline.pipeline import Pipeline\n",
        "from unstructured_ingest.v2.interfaces import ProcessorConfig\n",
        "\n",
        "from unstructured_ingest.v2.processes.connectors.weaviate import (\n",
        "    WeaviateConnectionConfig,\n",
        "    WeaviateAccessConfig,\n",
        "    WeaviateUploaderConfig,\n",
        "    WeaviateUploadStagerConfig\n",
        ")\n",
        "from unstructured_ingest.v2.processes.connectors.local import (\n",
        "    LocalIndexerConfig,\n",
        "    LocalDownloaderConfig,\n",
        "    LocalConnectionConfig\n",
        ")\n",
        "from unstructured_ingest.v2.processes.partitioner import PartitionerConfig\n",
        "from unstructured_ingest.v2.processes.chunker import ChunkerConfig\n",
        "from unstructured_ingest.v2.processes.embedder import EmbedderConfig"
      ],
      "metadata": {
        "id": "ZMco0m7nzisp"
      },
      "execution_count": null,
      "outputs": []
    },
    {
      "cell_type": "code",
      "source": [
        "Pipeline.from_configs(\n",
        "        context=ProcessorConfig(),\n",
        "        indexer_config=LocalIndexerConfig(input_path=os.getenv(\"LOCAL_FILE_INPUT_DIR\")),\n",
        "        downloader_config=LocalDownloaderConfig(),\n",
        "        source_connection_config=LocalConnectionConfig(),\n",
        "        partitioner_config=PartitionerConfig(\n",
        "            partition_by_api=True,\n",
        "            api_key=os.getenv(\"UNSTRUCTURED_API_KEY\"),\n",
        "            partition_endpoint=os.getenv(\"UNSTRUCTURED_API_URL\"),\n",
        "            strategy=\"hi_res\",\n",
        "            additional_partition_args={\n",
        "                \"split_pdf_page\": True,\n",
        "                \"split_pdf_allow_failed\": True,\n",
        "                \"split_pdf_concurrency_level\": 15\n",
        "            }\n",
        "        ),\n",
        "        chunker_config=ChunkerConfig(chunking_strategy=\"by_title\"),\n",
        "        embedder_config=EmbedderConfig(embedding_provider=\"langchain-openai\", embedding_api_key=os.getenv(\"OPENAI_API_KEY\")),\n",
        "        destination_connection_config=WeaviateConnectionConfig(\n",
        "            access_config=WeaviateAccessConfig(\n",
        "                api_key=os.getenv(\"WEAVIATE_API_KEY\")\n",
        "            ),\n",
        "            host_url=os.getenv(\"WEAVIATE_URL\"),\n",
        "            class_name=os.getenv(\"WEAVIATE_COLLECTION_CLASS_NAME\")\n",
        "        ),\n",
        "        stager_config=WeaviateUploadStagerConfig(),\n",
        "        uploader_config=WeaviateUploaderConfig()\n",
        "    ).run()"
      ],
      "metadata": {
        "id": "VYJbxW-BqgjD",
        "colab": {
          "base_uri": "https://localhost:8080/"
        },
        "outputId": "b1201a1f-5a18-43c4-8fd0-6f070ea17c83"
      },
      "execution_count": null,
      "outputs": [
        {
          "output_type": "stream",
          "name": "stderr",
          "text": [
            "2024-09-07 05:16:59,541 MainProcess INFO     Created index with configs: {\"input_path\": \"/content/constitution.pdf\", \"recursive\": false}, connection configs: {\"access_config\": \"**********\"}\n",
            "2024-09-07 05:16:59,547 MainProcess INFO     Created download with configs: {\"download_dir\": null}, connection configs: {\"access_config\": \"**********\"}\n",
            "2024-09-07 05:16:59,551 MainProcess INFO     Created partition with configs: {\"strategy\": \"fast\", \"ocr_languages\": null, \"encoding\": null, \"additional_partition_args\": {\"split_pdf_page\": true, \"split_pdf_allow_failed\": true, \"split_pdf_concurrency_level\": 15}, \"skip_infer_table_types\": null, \"fields_include\": [\"element_id\", \"text\", \"type\", \"metadata\", \"embeddings\"], \"flatten_metadata\": false, \"metadata_exclude\": [], \"metadata_include\": [], \"partition_endpoint\": \"https://api.unstructuredapp.io/general/v0/general\", \"partition_by_api\": true, \"api_key\": \"*******\", \"hi_res_model_name\": null}\n",
            "2024-09-07 05:16:59,553 MainProcess INFO     Created chunk with configs: {\"chunking_strategy\": \"by_title\", \"chunking_endpoint\": \"https://api.unstructured.io/general/v0/general\", \"chunk_by_api\": false, \"chunk_api_key\": null, \"chunk_combine_text_under_n_chars\": null, \"chunk_include_orig_elements\": null, \"chunk_max_characters\": 500, \"chunk_multipage_sections\": true, \"chunk_new_after_n_chars\": null, \"chunk_overlap\": null, \"chunk_overlap_all\": null}\n",
            "2024-09-07 05:16:59,561 MainProcess INFO     Created embed with configs: {\"embedding_provider\": \"langchain-openai\", \"embedding_api_key\": \"*******\", \"embedding_model_name\": null, \"embedding_aws_access_key_id\": null, \"embedding_aws_secret_access_key\": null, \"embedding_aws_region\": \"us-west-2\"}\n",
            "2024-09-07 05:16:59,603 MainProcess INFO     Created upload_stage with configs: {}\n",
            "2024-09-07 05:16:59,606 MainProcess INFO     Created upload with configs: {\"batch_size\": 100}, connection configs: {\"access_config\": \"**********\", \"host_url\": \"https://gmm4kvzs82lcafga8vmng.c0.us-west3.gcp.weaviate.cloud\", \"class_name\": \"UnstructuredOAI\", \"username\": null, \"anonymous\": false, \"scope\": null, \"refresh_token\": null, \"connector_type\": \"weaviate\"}\n",
            "2024-09-07 05:16:59,769 MainProcess INFO     Running local pipline: index (LocalIndexer) -> download (LocalDownloader) -> partition (fast) -> chunk (by_title) -> embed (langchain-openai) -> upload_stage (WeaviateUploadStager) -> upload (WeaviateUploader) with configs: {\"reprocess\": false, \"verbose\": false, \"tqdm\": false, \"work_dir\": \"/root/.cache/unstructured/ingest/pipeline\", \"num_processes\": 2, \"max_connections\": null, \"raise_on_error\": false, \"disable_parallelism\": false, \"preserve_downloads\": false, \"download_only\": false, \"max_docs\": null, \"re_download\": false, \"uncompress\": false, \"otel_endpoint\": null, \"status\": {}}\n",
            "2024-09-07 05:16:59,823 MainProcess INFO     index finished in 0.000262953s\n",
            "2024-09-07 05:16:59,836 MainProcess WARNING  Couldn't detect date created: 'os.stat_result' object has no attribute 'st_birthtime'\n",
            "2024-09-07 05:16:59,853 MainProcess INFO     Calling DownloadStep with 1 docs\n",
            "2024-09-07 05:16:59,858 MainProcess INFO     processing content async\n",
            "2024-09-07 05:16:59,862 MainProcess WARNING  async code being run in dedicated thread pool to not conflict with existing event loop: <_UnixSelectorEventLoop running=True closed=False debug=False>\n",
            "2024-09-07 05:16:59,884 MainProcess INFO     download finished in 0.015370444s, attributes: file_id=81f5cee00bf7\n",
            "2024-09-07 05:16:59,894 MainProcess INFO     download step finished in 0.040833657s\n",
            "2024-09-07 05:16:59,899 MainProcess INFO     Calling PartitionStep with 1 docs\n",
            "2024-09-07 05:16:59,908 MainProcess INFO     processing content async\n",
            "2024-09-07 05:16:59,918 MainProcess WARNING  async code being run in dedicated thread pool to not conflict with existing event loop: <_UnixSelectorEventLoop running=True closed=False debug=False>\n",
            "INFO: Preparing to split document for partition.\n",
            "INFO: Starting page number set to 1\n",
            "INFO: Allow failed set to 1\n",
            "INFO: Concurrency level set to 15\n",
            "INFO: Splitting pages 1 to 19 (19 total)\n",
            "INFO: Determined optimal split size of 2 pages.\n",
            "INFO: Partitioning 9 files with 2 page(s) each.\n",
            "INFO: Partitioning 1 file with 1 page(s).\n",
            "INFO: Partitioning set #1 (pages 1-2).\n",
            "INFO: Partitioning set #2 (pages 3-4).\n",
            "INFO: Partitioning set #3 (pages 5-6).\n",
            "INFO: Partitioning set #4 (pages 7-8).\n",
            "INFO: Partitioning set #5 (pages 9-10).\n",
            "INFO: Partitioning set #6 (pages 11-12).\n",
            "INFO: Partitioning set #7 (pages 13-14).\n",
            "INFO: Partitioning set #8 (pages 15-16).\n",
            "INFO: Partitioning set #9 (pages 17-18).\n",
            "INFO: Partitioning set #10 (pages 19-19).\n",
            "INFO: HTTP Request: POST https://api.unstructuredapp.io/general/v0/general \"HTTP/1.1 200 OK\"\n",
            "INFO: HTTP Request: POST https://api.unstructuredapp.io/general/v0/general \"HTTP/1.1 200 OK\"\n",
            "INFO: HTTP Request: POST https://api.unstructuredapp.io/general/v0/general \"HTTP/1.1 200 OK\"\n",
            "INFO: HTTP Request: POST https://api.unstructuredapp.io/general/v0/general \"HTTP/1.1 200 OK\"\n",
            "INFO: HTTP Request: POST https://api.unstructuredapp.io/general/v0/general \"HTTP/1.1 200 OK\"\n",
            "INFO: HTTP Request: POST https://api.unstructuredapp.io/general/v0/general \"HTTP/1.1 200 OK\"\n",
            "INFO: HTTP Request: POST https://api.unstructuredapp.io/general/v0/general \"HTTP/1.1 200 OK\"\n",
            "INFO: HTTP Request: POST https://api.unstructuredapp.io/general/v0/general \"HTTP/1.1 200 OK\"\n",
            "INFO: HTTP Request: POST https://api.unstructuredapp.io/general/v0/general \"HTTP/1.1 200 OK\"\n",
            "INFO: HTTP Request: POST https://api.unstructuredapp.io/general/v0/general \"HTTP/1.1 200 OK\"\n",
            "INFO: Successfully partitioned set #1, elements added to the final result.\n",
            "INFO: Successfully partitioned set #2, elements added to the final result.\n",
            "INFO: Successfully partitioned set #3, elements added to the final result.\n",
            "INFO: Successfully partitioned set #4, elements added to the final result.\n",
            "INFO: Successfully partitioned set #5, elements added to the final result.\n",
            "INFO: Successfully partitioned set #6, elements added to the final result.\n",
            "INFO: Successfully partitioned set #7, elements added to the final result.\n",
            "INFO: Successfully partitioned set #8, elements added to the final result.\n",
            "INFO: Successfully partitioned set #9, elements added to the final result.\n",
            "INFO: Successfully partitioned set #10, elements added to the final result.\n",
            "2024-09-07 05:17:03,518 MainProcess INFO     partition finished in 3.583813379s, attributes: file_id=81f5cee00bf7\n",
            "INFO: partition finished in 3.583813379s, attributes: file_id=81f5cee00bf7\n",
            "2024-09-07 05:17:03,532 MainProcess INFO     partition step finished in 3.632663408s\n",
            "INFO: partition step finished in 3.632663408s\n",
            "2024-09-07 05:17:03,538 MainProcess INFO     Calling ChunkStep with 1 docs\n",
            "INFO: Calling ChunkStep with 1 docs\n",
            "2024-09-07 05:17:03,545 MainProcess INFO     processing content across processes\n",
            "INFO: processing content across processes\n",
            "2024-09-07 05:17:03,554 MainProcess INFO     processing content serially\n",
            "INFO: processing content serially\n",
            "2024-09-07 05:17:03,562 MainProcess WARNING  async code being run in dedicated thread pool to not conflict with existing event loop: <_UnixSelectorEventLoop running=True closed=False debug=False>\n",
            "WARNING: async code being run in dedicated thread pool to not conflict with existing event loop: <_UnixSelectorEventLoop running=True closed=False debug=False>\n",
            "2024-09-07 05:17:05,313 MainProcess INFO     chunk finished in 1.734293472s, attributes: file_id=81f5cee00bf7\n",
            "INFO: chunk finished in 1.734293472s, attributes: file_id=81f5cee00bf7\n",
            "2024-09-07 05:17:05,326 MainProcess INFO     chunk finished in 1.764255833s, attributes: file_id=81f5cee00bf7\n",
            "INFO: chunk finished in 1.764255833s, attributes: file_id=81f5cee00bf7\n",
            "2024-09-07 05:17:05,331 MainProcess INFO     chunk step finished in 1.79240654s\n",
            "INFO: chunk step finished in 1.79240654s\n",
            "2024-09-07 05:17:05,338 MainProcess INFO     Calling EmbedStep with 1 docs\n",
            "INFO: Calling EmbedStep with 1 docs\n",
            "2024-09-07 05:17:05,345 MainProcess INFO     processing content across processes\n",
            "INFO: processing content across processes\n",
            "2024-09-07 05:17:05,352 MainProcess INFO     processing content serially\n",
            "INFO: processing content serially\n",
            "2024-09-07 05:17:05,373 MainProcess WARNING  async code being run in dedicated thread pool to not conflict with existing event loop: <_UnixSelectorEventLoop running=True closed=False debug=False>\n",
            "WARNING: async code being run in dedicated thread pool to not conflict with existing event loop: <_UnixSelectorEventLoop running=True closed=False debug=False>\n",
            "INFO: HTTP Request: POST https://api.openai.com/v1/embeddings \"HTTP/1.1 200 OK\"\n",
            "2024-09-07 05:17:11,396 MainProcess INFO     embed finished in 6.005197941s, attributes: file_id=81f5cee00bf7\n",
            "INFO: embed finished in 6.005197941s, attributes: file_id=81f5cee00bf7\n",
            "2024-09-07 05:17:11,405 MainProcess INFO     embed finished in 6.031933491s, attributes: file_id=81f5cee00bf7\n",
            "INFO: embed finished in 6.031933491s, attributes: file_id=81f5cee00bf7\n",
            "2024-09-07 05:17:11,408 MainProcess INFO     embed step finished in 6.069807356s\n",
            "INFO: embed step finished in 6.069807356s\n",
            "2024-09-07 05:17:11,412 MainProcess INFO     Calling UploadStageStep with 1 docs\n",
            "INFO: Calling UploadStageStep with 1 docs\n",
            "2024-09-07 05:17:11,415 MainProcess INFO     processing content across processes\n",
            "INFO: processing content across processes\n",
            "2024-09-07 05:17:11,418 MainProcess INFO     processing content serially\n",
            "INFO: processing content serially\n",
            "2024-09-07 05:17:11,421 MainProcess WARNING  async code being run in dedicated thread pool to not conflict with existing event loop: <_UnixSelectorEventLoop running=True closed=False debug=False>\n",
            "WARNING: async code being run in dedicated thread pool to not conflict with existing event loop: <_UnixSelectorEventLoop running=True closed=False debug=False>\n",
            "2024-09-07 05:17:11,963 MainProcess INFO     upload_stage finished in 0.52786628s, attributes: file_id=81f5cee00bf7\n",
            "INFO: upload_stage finished in 0.52786628s, attributes: file_id=81f5cee00bf7\n",
            "2024-09-07 05:17:11,971 MainProcess INFO     upload_stage finished in 0.549621347s, attributes: file_id=81f5cee00bf7\n",
            "INFO: upload_stage finished in 0.549621347s, attributes: file_id=81f5cee00bf7\n",
            "2024-09-07 05:17:11,974 MainProcess INFO     upload_stage step finished in 0.561672411s\n",
            "INFO: upload_stage step finished in 0.561672411s\n",
            "2024-09-07 05:17:11,976 MainProcess INFO     Calling UploadStep with 1 docs\n",
            "INFO: Calling UploadStep with 1 docs\n",
            "2024-09-07 05:17:11,986 MainProcess INFO     processing content across processes\n",
            "INFO: processing content across processes\n",
            "2024-09-07 05:17:11,990 MainProcess INFO     processing content serially\n",
            "INFO: processing content serially\n",
            "2024-09-07 05:17:11,993 MainProcess WARNING  async code being run in dedicated thread pool to not conflict with existing event loop: <_UnixSelectorEventLoop running=True closed=False debug=False>\n",
            "WARNING: async code being run in dedicated thread pool to not conflict with existing event loop: <_UnixSelectorEventLoop running=True closed=False debug=False>\n",
            "2024-09-07 05:17:12,114 MainProcess INFO     writing 145 objects to destination class UnstructuredOAI at https://gmm4kvzs82lcafga8vmng.c0.us-west3.gcp.weaviate.cloud\n",
            "INFO: writing 145 objects to destination class UnstructuredOAI at https://gmm4kvzs82lcafga8vmng.c0.us-west3.gcp.weaviate.cloud\n",
            "2024-09-07 05:17:14,454 MainProcess INFO     upload finished in 2.457313801s, attributes: file_id=81f5cee00bf7\n",
            "INFO: upload finished in 2.457313801s, attributes: file_id=81f5cee00bf7\n",
            "2024-09-07 05:17:14,459 MainProcess INFO     upload finished in 2.465904714s, attributes: file_id=81f5cee00bf7\n",
            "INFO: upload finished in 2.465904714s, attributes: file_id=81f5cee00bf7\n",
            "2024-09-07 05:17:14,461 MainProcess INFO     upload step finished in 2.485211447s\n",
            "INFO: upload step finished in 2.485211447s\n",
            "2024-09-07 05:17:14,464 MainProcess INFO     ingest process finished in 14.847010874s\n",
            "INFO: ingest process finished in 14.847010874s\n"
          ]
        }
      ]
    },
    {
      "cell_type": "markdown",
      "source": [
        "## 5. Time to Search! Put in your own questions here\n"
      ],
      "metadata": {
        "id": "E2i_wulPVQNn"
      }
    },
    {
      "cell_type": "markdown",
      "source": [
        "### Aggregate query"
      ],
      "metadata": {
        "id": "I8V9Jg6IVaIp"
      }
    },
    {
      "cell_type": "code",
      "source": [
        "# count how many chunks are in the database\n",
        "\n",
        "documents = client.collections.get(os.getenv(\"WEAVIATE_COLLECTION_CLASS_NAME\"))\n",
        "response = documents.aggregate.over_all(total_count=True)\n",
        "\n",
        "print(response.total_count)"
      ],
      "metadata": {
        "id": "83WVLp6CXj1a",
        "colab": {
          "base_uri": "https://localhost:8080/"
        },
        "outputId": "d36eb72b-e6f3-4d9d-ca8c-549665231451"
      },
      "execution_count": null,
      "outputs": [
        {
          "output_type": "stream",
          "name": "stderr",
          "text": [
            "INFO: HTTP Request: POST https://gmm4kvzs82lcafga8vmng.c0.us-west3.gcp.weaviate.cloud/v1/graphql \"HTTP/1.1 200 OK\"\n"
          ]
        },
        {
          "output_type": "stream",
          "name": "stdout",
          "text": [
            "145\n"
          ]
        }
      ]
    },
    {
      "cell_type": "markdown",
      "source": [
        "### Hybrid search (mix of keyword and vector search)"
      ],
      "metadata": {
        "id": "Uv9PAEfeVd9S"
      }
    },
    {
      "cell_type": "code",
      "source": [
        "import json\n",
        "\n",
        "documents = client.collections.get(os.getenv(\"WEAVIATE_COLLECTION_CLASS_NAME\"))\n",
        "\n",
        "response = documents.query.hybrid(\n",
        "    query=\"what's the first amendment?\",\n",
        "    alpha=0.5, # equal weighting of BM25 and vector search\n",
        "    return_properties=['text'],\n",
        "    auto_limit=2  # autocut after 2 jumps\n",
        ")\n",
        "\n",
        "for obj in response.objects:\n",
        "    print(json.dumps(obj.properties, indent=2))"
      ],
      "metadata": {
        "id": "OpKwBCN1VZW0",
        "colab": {
          "base_uri": "https://localhost:8080/"
        },
        "outputId": "4a1531e9-f6db-4188-fc91-324108004b4b"
      },
      "execution_count": null,
      "outputs": [
        {
          "output_type": "stream",
          "name": "stdout",
          "text": [
            "{\n",
            "  \"text\": \"ARTICLES in addition to, and Amendment of the Constitution of the United States of America, proposed by Congress, and ratified by the Legislatures of the several States, pursuant to the fifth Article of the original Constitution.\\n\\n(Note: The first 10 amendments to the Constitution were ratified December 15, 1791, and form what is known as the \\u201cBill of Rights.\\u201d)\"\n",
            "}\n",
            "{\n",
            "  \"text\": \"Amendment I.\\n\\nCongress shall make no law respecting an establishment of religion, or prohibiting the free exercise thereof; or abridg- ing the freedom of speech, or of the press, or the right of the people peaceably to assemble, and to petition the Government for a redress of grievances.\\n\\nAmendment II.\\n\\nA well regulated Militia, being necessary to the security of a free State, the right of the people to keep and bear Arms, shall not be infringed.\"\n",
            "}\n",
            "{\n",
            "  \"text\": \"Ratification may be proposed by the Congress; Provided that no Amendment which may be made prior to the Year One thousand eight hundred and eight shall in any Manner affect the first and fourth Clauses in the Ninth Section of the first Article; and that no State, without its Consent, shall be deprived of its equal Suffrage in the Senate\"\n",
            "}\n",
            "{\n",
            "  \"text\": \"Superseded by Section 3 of the 20th Amendment.\\n\\nC O N S T I T U T I O N O F T H E U N I T E D S T A T E S\\n\\nAmendment XIII.\\n\\nPassed by Congress January 31, 1865. Ratified December 6, 1865.\\n\\n(Note: A portion of Article IV, Section 2 of the Constitution was changed by the 13th Amendment.)\"\n",
            "}\n"
          ]
        }
      ]
    },
    {
      "cell_type": "markdown",
      "source": [
        "### Vector Search"
      ],
      "metadata": {
        "id": "M2wOr3ONVhJj"
      }
    },
    {
      "cell_type": "code",
      "source": [
        "documents = client.collections.get(os.getenv(\"WEAVIATE_COLLECTION_CLASS_NAME\"))\n",
        "\n",
        "response = documents.query.near_text(\n",
        "    query=\"what's the first amendment?\",\n",
        "    return_properties=['text'],\n",
        "    limit=5  # limit to 5\n",
        ")\n",
        "\n",
        "for obj in response.objects:\n",
        "    print(json.dumps(obj.properties, indent=2))"
      ],
      "metadata": {
        "id": "H3s9HZCdVhgK",
        "colab": {
          "base_uri": "https://localhost:8080/"
        },
        "outputId": "910cea05-5598-446d-8410-398f72c0c999"
      },
      "execution_count": null,
      "outputs": [
        {
          "output_type": "stream",
          "name": "stdout",
          "text": [
            "{\n",
            "  \"text\": \"Amendment I.\\n\\nCongress shall make no law respecting an establishment of religion, or prohibiting the free exercise thereof; or abridg- ing the freedom of speech, or of the press, or the right of the people peaceably to assemble, and to petition the Government for a redress of grievances.\\n\\nAmendment II.\\n\\nA well regulated Militia, being necessary to the security of a free State, the right of the people to keep and bear Arms, shall not be infringed.\"\n",
            "}\n",
            "{\n",
            "  \"text\": \"ARTICLES in addition to, and Amendment of the Constitution of the United States of America, proposed by Congress, and ratified by the Legislatures of the several States, pursuant to the fifth Article of the original Constitution.\\n\\n(Note: The first 10 amendments to the Constitution were ratified December 15, 1791, and form what is known as the \\u201cBill of Rights.\\u201d)\"\n",
            "}\n",
            "{\n",
            "  \"text\": \"Ratification may be proposed by the Congress; Provided that no Amendment which may be made prior to the Year One thousand eight hundred and eight shall in any Manner affect the first and fourth Clauses in the Ninth Section of the first Article; and that no State, without its Consent, shall be deprived of its equal Suffrage in the Senate\"\n",
            "}\n",
            "{\n",
            "  \"text\": \"Amendment IV.\\n\\nThe right of the people to be secure in their persons, hous- es, papers, and effects, against unreasonable searches and seizures, shall not be violated, and no Warrants shall issue, but upon probable cause, supported by Oath or affirma- tion, and particularly describing the place to be searched, and the persons or things to be seized.\\n\\nAmendment V.\"\n",
            "}\n",
            "{\n",
            "  \"text\": \"by the twelfth article of amendment.\"\n",
            "}\n"
          ]
        }
      ]
    },
    {
      "cell_type": "markdown",
      "source": [
        "Generative Search"
      ],
      "metadata": {
        "id": "Q3PQnlQtBMoN"
      }
    },
    {
      "cell_type": "code",
      "source": [
        "generateTask = \"Please write a short summary of amendement 1\"\n",
        "\n",
        "documents = client.collections.get(os.getenv(\"WEAVIATE_COLLECTION_CLASS_NAME\"))\n",
        "response = documents.generate.near_text(\n",
        "    query=\"amendment 1\",\n",
        "    limit=5,\n",
        "    grouped_task=generateTask\n",
        ")"
      ],
      "metadata": {
        "id": "LjxjfjeMBOq3"
      },
      "execution_count": null,
      "outputs": []
    },
    {
      "cell_type": "code",
      "source": [
        "import textwrap\n",
        "\n",
        "# Assuming response.generated is a long string\n",
        "wrapped_text = textwrap.fill(response.generated, width=80)  # Set width to desired character limit per line\n",
        "print(wrapped_text)\n"
      ],
      "metadata": {
        "colab": {
          "base_uri": "https://localhost:8080/"
        },
        "id": "fpYC523t4fAU",
        "outputId": "81b152d6-7c85-4085-8821-e7986062f2fb"
      },
      "execution_count": null,
      "outputs": [
        {
          "output_type": "stream",
          "name": "stdout",
          "text": [
            "Amendment I of the United States Constitution, part of the Bill of Rights,\n",
            "prohibits Congress from making any law respecting an establishment of religion,\n",
            "or prohibiting the free exercise thereof; or abridging the freedom of speech, or\n",
            "of the press, or the right of the people peaceably to assemble, and to petition\n",
            "the Government for a redress of grievances. This amendment was ratified on\n",
            "December 15, 1791.\n"
          ]
        }
      ]
    }
  ]
}